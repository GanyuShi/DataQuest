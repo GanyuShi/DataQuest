{
 "cells": [
  {
   "cell_type": "code",
   "execution_count": 3,
   "metadata": {},
   "outputs": [
    {
     "name": "stdout",
     "output_type": "stream",
     "text": [
      "[[ 15.7]\n",
      " [ 14.7]\n",
      " [ 20.7]]\n"
     ]
    }
   ],
   "source": [
    "import numpy as np\n",
    "import pandas as pd\n",
    "\n",
    "matrix_a = np.asarray([\n",
    "    [0.7, 3, 9],\n",
    "    [1.7, 2, 9],\n",
    "    [0.7, 9, 2]], dtype = float)\n",
    "\n",
    "vector_b = np.asarray([\n",
    "    [1],\n",
    "    [2],\n",
    "    [1]], dtype = float)\n",
    "\n",
    "ab_product = np.dot(matrix_a, vector_b)\n",
    "print(ab_product)"
   ]
  },
  {
   "cell_type": "code",
   "execution_count": 4,
   "metadata": {},
   "outputs": [
    {
     "name": "stdout",
     "output_type": "stream",
     "text": [
      "[[  82.09999847    2.0999999    10.        ]\n",
      " [ 194.1000061     5.10000038   19.        ]\n",
      " [  88.09999847    2.0999999    16.        ]]\n",
      "[[  91.19999695  435.        ]\n",
      " [   1.39999998   12.        ]]\n"
     ]
    }
   ],
   "source": [
    "matrix_a = np.asarray([\n",
    "    [0.7, 3],\n",
    "    [1.7, 2],\n",
    "    [0.7, 9]\n",
    "], dtype=np.float32)\n",
    "\n",
    "matrix_b = np.asarray([\n",
    "    [113, 3, 10],\n",
    "    [1, 0, 1],\n",
    "], dtype=np.float32)\n",
    "\n",
    "product_ab = np.dot(matrix_a, matrix_b)\n",
    "product_ba = np.dot(matrix_b, matrix_a)\n",
    "\n",
    "print(product_ab)\n",
    "print(product_ba)"
   ]
  },
  {
   "cell_type": "markdown",
   "metadata": {},
   "source": [
    "## np.transpose()"
   ]
  },
  {
   "cell_type": "code",
   "execution_count": 5,
   "metadata": {},
   "outputs": [
    {
     "name": "stdout",
     "output_type": "stream",
     "text": [
      "[[ 0.69999999  3.        ]\n",
      " [ 1.70000005  2.        ]\n",
      " [ 0.69999999  9.        ]]\n",
      "[[  82.09999847  194.1000061    88.09999847]\n",
      " [   2.0999999     5.10000038    2.0999999 ]\n",
      " [  10.           19.           16.        ]]\n",
      "[[  91.19999695    1.39999998]\n",
      " [ 435.           12.        ]]\n",
      "[[  82.09999847  194.1000061    88.09999847]\n",
      " [   2.0999999     5.10000038    2.0999999 ]\n",
      " [  10.           19.           16.        ]]\n"
     ]
    }
   ],
   "source": [
    "transpose_a = np.transpose(matrix_a)\n",
    "print(np.transpose(transpose_a))\n",
    "\n",
    "trans_ba = np.dot(np.transpose(matrix_b), np.transpose(matrix_a))\n",
    "print(trans_ba)\n",
    "\n",
    "trans_ab = np.dot(np.transpose(matrix_a), np.transpose(matrix_b))\n",
    "print(trans_ab)\n",
    "\n",
    "product_ab = np.dot(matrix_a, matrix_b)\n",
    "print(np.transpose(product_ab))"
   ]
  },
  {
   "cell_type": "markdown",
   "metadata": {},
   "source": [
    "## np.identity()"
   ]
  },
  {
   "cell_type": "code",
   "execution_count": 6,
   "metadata": {},
   "outputs": [
    {
     "name": "stdout",
     "output_type": "stream",
     "text": [
      "[[ 1.  2.  3.]\n",
      " [ 4.  5.  6.]\n",
      " [ 7.  8.  9.]]\n",
      "[[  0.69999999   3.           1.        ]\n",
      " [  1.70000005   2.          10.        ]]\n"
     ]
    }
   ],
   "source": [
    "i_2 = np.identity(2)\n",
    "i_3 = np.identity(3)\n",
    "\n",
    "matrix_33 = np.asarray([\n",
    "    [1, 2, 3],\n",
    "    [4, 5, 6],\n",
    "    [7, 8, 9]\n",
    "])\n",
    "\n",
    "matrix_23 = np.asarray([\n",
    "    [0.7, 3, 1],\n",
    "    [1.7, 2, 10],\n",
    "], dtype=np.float32)\n",
    "\n",
    "identity_33 = np.dot(i_3, matrix_33)\n",
    "identity_23 = np.dot(i_2, matrix_23)\n",
    "\n",
    "print(identity_33)\n",
    "print(identity_23)"
   ]
  },
  {
   "cell_type": "code",
   "execution_count": 7,
   "metadata": {},
   "outputs": [
    {
     "name": "stdout",
     "output_type": "stream",
     "text": [
      "[[ 1.  0.]\n",
      " [ 0.  1.]]\n"
     ]
    }
   ],
   "source": [
    "matrix_a = np.asarray([\n",
    "    [1.5, 3],\n",
    "    [1, 4]\n",
    "])\n",
    "def matrix_inverse_two(mat):\n",
    "    det = (mat[0,0]*mat[1,1] - mat[0,1]*mat[1,0])\n",
    "    if det == 0:\n",
    "        raise ValueError(\"The matrix isn't invertible\")\n",
    "    right_mat = np.asarray([\n",
    "        [mat[1,1], -mat[0,1]],\n",
    "        [-mat[1,0], mat[0,0]]\n",
    "    ])\n",
    "    inv_mat = np.dot(1/det, right_mat)\n",
    "    return inv_mat\n",
    "inverse_a = matrix_inverse_two(matrix_a)\n",
    "i_2 = np.dot(inverse_a, matrix_a)\n",
    "print(i_2)"
   ]
  },
  {
   "cell_type": "markdown",
   "metadata": {},
   "source": [
    "##  numpy.linalg.inv() "
   ]
  },
  {
   "cell_type": "code",
   "execution_count": 8,
   "metadata": {},
   "outputs": [
    {
     "name": "stdout",
     "output_type": "stream",
     "text": [
      "[[   45.]\n",
      " [ 2350.]]\n"
     ]
    }
   ],
   "source": [
    "matrix_a = np.asarray([\n",
    "    [30, -1],\n",
    "    [50, -1]\n",
    "])\n",
    "\n",
    "vector_b = np.asarray([\n",
    "    [-1000],\n",
    "    [-100]\n",
    "])\n",
    "matrix_a_inverse = np.linalg.inv(matrix_a)\n",
    "solution_x = np.dot(matrix_a_inverse, vector_b)\n",
    "print(solution_x)"
   ]
  },
  {
   "cell_type": "markdown",
   "metadata": {},
   "source": [
    "## numpy.linalg.det()"
   ]
  },
  {
   "cell_type": "code",
   "execution_count": 9,
   "metadata": {},
   "outputs": [
    {
     "name": "stdout",
     "output_type": "stream",
     "text": [
      "0.0\n",
      "-5.0\n"
     ]
    }
   ],
   "source": [
    "matrix_22 = np.asarray([\n",
    "    [8, 4],\n",
    "    [4, 2]\n",
    "])\n",
    "\n",
    "matrix_33 = np.asarray([\n",
    "    [1, 1, 1],\n",
    "    [1, 1, 6],\n",
    "    [7, 8, 9]\n",
    "])\n",
    "det_22 = np.linalg.det(matrix_22)\n",
    "det_33 = np.linalg.det(matrix_33)\n",
    "\n",
    "print(det_22)\n",
    "print(det_33)"
   ]
  },
  {
   "cell_type": "code",
   "execution_count": null,
   "metadata": {},
   "outputs": [],
   "source": []
  }
 ],
 "metadata": {
  "kernelspec": {
   "display_name": "Python (dataquest)",
   "language": "python",
   "name": "dataquest"
  },
  "language_info": {
   "codemirror_mode": {
    "name": "ipython",
    "version": 3
   },
   "file_extension": ".py",
   "mimetype": "text/x-python",
   "name": "python",
   "nbconvert_exporter": "python",
   "pygments_lexer": "ipython3",
   "version": "3.6.6"
  }
 },
 "nbformat": 4,
 "nbformat_minor": 2
}
