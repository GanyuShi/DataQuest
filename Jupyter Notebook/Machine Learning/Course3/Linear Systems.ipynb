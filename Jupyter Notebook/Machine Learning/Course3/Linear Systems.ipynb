{
 "cells": [
  {
   "cell_type": "code",
   "execution_count": 1,
   "metadata": {},
   "outputs": [],
   "source": [
    "import numpy as np\n",
    "import matplotlib.pyplot as plt"
   ]
  },
  {
   "cell_type": "code",
   "execution_count": 11,
   "metadata": {},
   "outputs": [
    {
     "data": {
      "image/png": "[encoded data removed]",
      "text/plain": [
       "<Figure size 432x288 with 1 Axes>"
      ]
     },
     "metadata": {},
     "output_type": "display_data"
    }
   ],
   "source": [
    "x = np.linspace(0, 50, 1000)\n",
    "y1 = x * 30 + 1000\n",
    "y2 = x * 50 + 100\n",
    "%matplotlib inline\n",
    "plt.plot(x, y1, c='orange')\n",
    "plt.plot(x, y2, c='blue')\n",
    "plt.show()"
   ]
  },
  {
   "cell_type": "markdown",
   "metadata": {},
   "source": [
    "##  Representing An Augmented Matrix In NumPy"
   ]
  },
  {
   "cell_type": "code",
   "execution_count": 12,
   "metadata": {},
   "outputs": [],
   "source": [
    "#np.asarray()\n",
    "matrix_one = np.asarray([\n",
    "    [30, -1, -1000],\n",
    "    [20, -1, -100],\n",
    "], dtype=np.float32)"
   ]
  },
  {
   "cell_type": "code",
   "execution_count": 13,
   "metadata": {},
   "outputs": [
    {
     "data": {
      "text/plain": [
       "array([[   30.,    -1., -1000.],\n",
       "       [   20.,    -1.,  -100.]], dtype=float32)"
      ]
     },
     "execution_count": 13,
     "metadata": {},
     "output_type": "execute_result"
    }
   ],
   "source": [
    "matrix_one"
   ]
  },
  {
   "cell_type": "code",
   "execution_count": 14,
   "metadata": {},
   "outputs": [],
   "source": [
    "matrix =  np.asarray([\n",
    "    [1, 3],\n",
    "    [50, 2]  \n",
    "], dtype=np.float32)\n",
    "# Swap the second row (at index value 1) with the first row (at index value 0).\n",
    "matrix = matrix[[1,0]]"
   ]
  },
  {
   "cell_type": "code",
   "execution_count": 15,
   "metadata": {},
   "outputs": [],
   "source": [
    "# Multipy the second row by 2.\n",
    "matrix[1] = 2*matrix[1]"
   ]
  },
  {
   "cell_type": "code",
   "execution_count": 16,
   "metadata": {},
   "outputs": [],
   "source": [
    "# Add the second row to the first row.\n",
    "matrix[1] = matrix[1] + matrix[0]"
   ]
  },
  {
   "cell_type": "code",
   "execution_count": 17,
   "metadata": {},
   "outputs": [
    {
     "name": "stdout",
     "output_type": "stream",
     "text": [
      "[[  1.00000000e+00   0.00000000e+00   4.50000038e+01]\n",
      " [  0.00000000e+00   1.00000000e+00   2.35000000e+03]]\n"
     ]
    }
   ],
   "source": [
    "matrix_three = np.asarray([\n",
    "    [1, -1/30, -1000/30],\n",
    "    [0, 1, 2350]  \n",
    "], dtype=np.float32)\n",
    "matrix_three[0] += matrix_three[1] / 30\n",
    "print(matrix_three)"
   ]
  },
  {
   "cell_type": "code",
   "execution_count": null,
   "metadata": {},
   "outputs": [],
   "source": []
  }
 ],
 "metadata": {
  "kernelspec": {
   "display_name": "Python (dataquest)",
   "language": "python",
   "name": "dataquest"
  },
  "language_info": {
   "codemirror_mode": {
    "name": "ipython",
    "version": 3
   },
   "file_extension": ".py",
   "mimetype": "text/x-python",
   "name": "python",
   "nbconvert_exporter": "python",
   "pygments_lexer": "ipython3",
   "version": "3.6.6"
  }
 },
 "nbformat": 4,
 "nbformat_minor": 2
}
