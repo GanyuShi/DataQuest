{
 "cells": [
  {
   "cell_type": "markdown",
   "metadata": {},
   "source": [
    "##  pyplot.quiver\n",
    "We can visualize vectors in matplotlib using the pyplot.quiver() function. This function has 4 required parameters: X, Y, U, V. X and Y correspond to the  coordinates we want the vector to start at and U and V correspond to the coordinates we want the vector to end at.\n",
    "\n",
    "We also need to set the angles and scale_units parameters to xy and the scale parameter to 1. Setting angles to 'xy' lets matplotlib know we want the angle of the vector to be between the points we specified. The scale_units and scale parameters lets us specify custom scaling parameters for the vectors. When plotting vectors, we always want to use these 3 values for the parameters:"
   ]
  },
  {
   "cell_type": "code",
   "execution_count": 2,
   "metadata": {},
   "outputs": [
    {
     "data": {
      "image/png": "[encoded data removed]",
      "text/plain": [
       "<Figure size 432x288 with 1 Axes>"
      ]
     },
     "metadata": {},
     "output_type": "display_data"
    }
   ],
   "source": [
    "import matplotlib.pyplot as plt\n",
    "import numpy as np\n",
    "\n",
    "%matplotlib inline\n",
    "# This code draws the x and y axis as lines.\n",
    "plt.axhline(0, c='black', lw=0.5)\n",
    "plt.axvline(0, c='black', lw=0.5)\n",
    "plt.xlim(-3,3)\n",
    "plt.ylim(-4,4)\n",
    "\n",
    "# Add your code here.\n",
    "plt.quiver(0, 0, 2, 3, angles='xy', scale_units='xy', scale=1, color='blue')\n",
    "plt.quiver(0, 0, -2, -3, angles='xy', scale_units='xy', scale=1, color='blue')\n",
    "plt.quiver(0, 0, 1, 1, angles='xy', scale_units='xy', scale=1, color='gold')\n",
    "plt.quiver(0, 0, 2, 2, angles='xy', scale_units='xy', scale=1, color='gold')\n",
    "\n",
    "plt.show()"
   ]
  },
  {
   "cell_type": "code",
   "execution_count": 6,
   "metadata": {},
   "outputs": [
    {
     "data": {
      "text/plain": [
       "<matplotlib.quiver.Quiver at 0x11403c320>"
      ]
     },
     "execution_count": 6,
     "metadata": {},
     "output_type": "execute_result"
    },
    {
     "data": {
      "image/png": "[encoded data removed]",
      "text/plain": [
       "<Figure size 432x288 with 1 Axes>"
      ]
     },
     "metadata": {},
     "output_type": "display_data"
    }
   ],
   "source": [
    "# This code draws the x and y axis as lines.\n",
    "plt.axhline(0, c='black', lw=0.5)\n",
    "plt.axvline(0, c='black', lw=0.5)\n",
    "plt.xlim(-4,4)\n",
    "plt.ylim(-1,4)\n",
    "\n",
    "# Add your code here.\n",
    "plt.quiver(0, 0, 3, 0, angles='xy', scale_units='xy', scale=1)\n",
    "plt.quiver(3, 0, 0, 3, angles='xy', scale_units='xy', scale=1)\n",
    "plt.quiver(0, 0, 3, 3, angles='xy', scale_units='xy', scale=1, color='green')"
   ]
  },
  {
   "cell_type": "code",
   "execution_count": 15,
   "metadata": {},
   "outputs": [
    {
     "data": {
      "text/plain": [
       "<matplotlib.quiver.Quiver at 0x1149526a0>"
      ]
     },
     "execution_count": 15,
     "metadata": {},
     "output_type": "execute_result"
    },
    {
     "data": {
      "image/png": "[encoded data removed]",
      "text/plain": [
       "<Figure size 432x288 with 1 Axes>"
      ]
     },
     "metadata": {},
     "output_type": "display_data"
    }
   ],
   "source": [
    "plt.axhline(0, c='black', lw=0.5)\n",
    "plt.axvline(0, c='black', lw=0.5)\n",
    "plt.xlim(-5, 5)\n",
    "plt.ylim(-5, 5)\n",
    "\n",
    "plt.quiver(0, 0, 3, 1, angles='xy', scale_units='xy', scale=1, color='blue')\n",
    "plt.quiver(0, 0, 6, 2, angles='xy', scale_units='xy', scale=1, color='green')\n",
    "plt.quiver(0, 0, 9, 3, angles='xy', scale_units='xy', scale=1, color='orange')"
   ]
  },
  {
   "cell_type": "code",
   "execution_count": 17,
   "metadata": {},
   "outputs": [
    {
     "data": {
      "text/plain": [
       "array([[ 3.],\n",
       "       [ 0.],\n",
       "       [ 1.]], dtype=float32)"
      ]
     },
     "execution_count": 17,
     "metadata": {},
     "output_type": "execute_result"
    }
   ],
   "source": [
    "vector_two = np.asarray([\n",
    "    [3],\n",
    "    [0],\n",
    "    [1]\n",
    "], dtype='float32')\n",
    "vector_two"
   ]
  },
  {
   "cell_type": "code",
   "execution_count": 18,
   "metadata": {},
   "outputs": [
    {
     "data": {
      "text/plain": [
       "array([[ 21.],\n",
       "       [  0.],\n",
       "       [  7.]], dtype=float32)"
      ]
     },
     "execution_count": 18,
     "metadata": {},
     "output_type": "execute_result"
    }
   ],
   "source": [
    "vector_linear_combination = vector_two * 2 + vector_two * 5\n",
    "vector_linear_combination"
   ]
  },
  {
   "cell_type": "markdown",
   "metadata": {},
   "source": [
    "## numpy.dot()\n",
    "one of the two vectors need to be represented as a row vector while the other a column vector:\n",
    "\n",
    "\n"
   ]
  },
  {
   "cell_type": "code",
   "execution_count": 19,
   "metadata": {},
   "outputs": [
    {
     "name": "stdout",
     "output_type": "stream",
     "text": [
      "[ 4.]\n"
     ]
    }
   ],
   "source": [
    "vector_one = np.asarray([\n",
    "    [1],\n",
    "    [2],\n",
    "    [1]\n",
    "], dtype=np.float32)\n",
    "\n",
    "vector_two = np.asarray([\n",
    "    [3],\n",
    "    [0],\n",
    "    [1]\n",
    "], dtype=np.float32)\n",
    "\n",
    "dot_product = np.dot(vector_one[:,0], vector_two)\n",
    "print(dot_product)"
   ]
  },
  {
   "cell_type": "code",
   "execution_count": null,
   "metadata": {},
   "outputs": [],
   "source": []
  }
 ],
 "metadata": {
  "kernelspec": {
   "display_name": "Python (dataquest)",
   "language": "python",
   "name": "dataquest"
  },
  "language_info": {
   "codemirror_mode": {
    "name": "ipython",
    "version": 3
   },
   "file_extension": ".py",
   "mimetype": "text/x-python",
   "name": "python",
   "nbconvert_exporter": "python",
   "pygments_lexer": "ipython3",
   "version": "3.6.6"
  }
 },
 "nbformat": 4,
 "nbformat_minor": 2
}
