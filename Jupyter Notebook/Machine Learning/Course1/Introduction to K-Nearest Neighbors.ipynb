{
 "cells": [
  {
   "cell_type": "code",
   "execution_count": 1,
   "metadata": {},
   "outputs": [],
   "source": [
    "import pandas as pd\n",
    "import numpy as np\n",
    "import matplotlib.pyplot as plt"
   ]
  },
  {
   "cell_type": "code",
   "execution_count": 2,
   "metadata": {},
   "outputs": [
    {
     "name": "stdout",
     "output_type": "stream",
     "text": [
      "host_response_rate                  92%\n",
      "host_acceptance_rate                91%\n",
      "host_listings_count                  26\n",
      "accommodates                          4\n",
      "room_type               Entire home/apt\n",
      "bedrooms                              1\n",
      "bathrooms                             1\n",
      "beds                                  2\n",
      "price                           $160.00\n",
      "cleaning_fee                    $115.00\n",
      "security_deposit                $100.00\n",
      "minimum_nights                        1\n",
      "maximum_nights                     1125\n",
      "number_of_reviews                     0\n",
      "latitude                          38.89\n",
      "longitude                      -77.0028\n",
      "city                         Washington\n",
      "zipcode                           20003\n",
      "state                                DC\n",
      "Name: 0, dtype: object\n"
     ]
    }
   ],
   "source": [
    "dc_listings = pd.read_csv('dc_airbnb.csv')\n",
    "print(dc_listings.iloc[0])"
   ]
  },
  {
   "cell_type": "code",
   "execution_count": 4,
   "metadata": {},
   "outputs": [
    {
     "name": "stdout",
     "output_type": "stream",
     "text": [
      "1\n"
     ]
    }
   ],
   "source": [
    "our_living_space = 3\n",
    "first_distance = dc_listings.iloc[0]['accommodates'] - our_living_space\n",
    "print(first_distance)\n"
   ]
  },
  {
   "cell_type": "markdown",
   "metadata": {},
   "source": [
    "## Calculate distance for all observations"
   ]
  },
  {
   "cell_type": "code",
   "execution_count": 6,
   "metadata": {},
   "outputs": [
    {
     "data": {
      "text/plain": [
       "1     2294\n",
       "2      503\n",
       "0      461\n",
       "3      279\n",
       "5       73\n",
       "4       35\n",
       "7       22\n",
       "6       17\n",
       "9       12\n",
       "13       8\n",
       "8        7\n",
       "12       6\n",
       "11       4\n",
       "10       2\n",
       "Name: distance, dtype: int64"
      ]
     },
     "execution_count": 6,
     "metadata": {},
     "output_type": "execute_result"
    }
   ],
   "source": [
    "dc_listings['distance'] = dc_listings['accommodates'].apply(lambda x: abs(x - our_living_space))\n",
    "dc_listings['distance'].value_counts()"
   ]
  },
  {
   "cell_type": "markdown",
   "metadata": {},
   "source": [
    "## Randomizing, and sorting"
   ]
  },
  {
   "cell_type": "code",
   "execution_count": 9,
   "metadata": {},
   "outputs": [
    {
     "name": "stdout",
     "output_type": "stream",
     "text": [
      "577     $185.00\n",
      "2166    $180.00\n",
      "3631    $175.00\n",
      "71      $128.00\n",
      "1011    $115.00\n",
      "380     $219.00\n",
      "943     $125.00\n",
      "3107    $250.00\n",
      "1499     $94.00\n",
      "625     $150.00\n",
      "Name: price, dtype: object\n"
     ]
    }
   ],
   "source": [
    "np.random.seed(1)\n",
    "dc_listings = dc_listings.loc[np.random.permutation(len(dc_listings))]\n",
    "dc_listings = dc_listings.sort_values('distance')\n",
    "print(dc_listings.iloc[0:10]['price'])"
   ]
  },
  {
   "cell_type": "code",
   "execution_count": 10,
   "metadata": {},
   "outputs": [
    {
     "name": "stdout",
     "output_type": "stream",
     "text": [
      "577       $185.00\n",
      "2166      $180.00\n",
      "3631      $175.00\n",
      "71        $128.00\n",
      "1011      $115.00\n",
      "380       $219.00\n",
      "943       $125.00\n",
      "3107      $250.00\n",
      "1499       $94.00\n",
      "625       $150.00\n",
      "1309       $70.00\n",
      "1252      $125.00\n",
      "1744      $110.00\n",
      "2334      $125.00\n",
      "749        $40.00\n",
      "1141      $135.00\n",
      "1855      $100.00\n",
      "1823       $76.00\n",
      "1040      $299.00\n",
      "1791       $95.00\n",
      "2055      $220.00\n",
      "2622      $120.00\n",
      "334       $189.00\n",
      "2528       $89.00\n",
      "963       $119.00\n",
      "2282       $93.00\n",
      "976        $95.00\n",
      "306       $309.00\n",
      "492       $115.00\n",
      "176       $119.00\n",
      "          ...    \n",
      "1885       $99.00\n",
      "1326      $375.00\n",
      "1878       $99.00\n",
      "1656      $283.00\n",
      "3305    $2,000.00\n",
      "1879       $99.00\n",
      "2995      $595.00\n",
      "542       $340.00\n",
      "1875       $99.00\n",
      "529       $600.00\n",
      "571       $720.00\n",
      "3524      $295.00\n",
      "562       $599.00\n",
      "1403      $599.00\n",
      "1658      $283.00\n",
      "685       $399.00\n",
      "2106      $499.00\n",
      "2688      $749.00\n",
      "1850      $180.00\n",
      "2757      $245.00\n",
      "1806      $330.00\n",
      "657       $500.00\n",
      "1594    $1,250.00\n",
      "611     $1,250.00\n",
      "2560       $60.00\n",
      "1596      $299.00\n",
      "1818       $10.00\n",
      "1402    $1,200.00\n",
      "763     $1,000.00\n",
      "1224      $499.00\n",
      "Name: price, Length: 3723, dtype: object\n"
     ]
    }
   ],
   "source": [
    "print(dc_listings['price'])"
   ]
  },
  {
   "cell_type": "markdown",
   "metadata": {},
   "source": [
    "## Average price"
   ]
  },
  {
   "cell_type": "code",
   "execution_count": 12,
   "metadata": {},
   "outputs": [
    {
     "name": "stdout",
     "output_type": "stream",
     "text": [
      "156.6\n"
     ]
    }
   ],
   "source": [
    "stripped_commas = dc_listings['price'].str.replace(',', '')\n",
    "stripped_commas = stripped_commas.str.replace('$', '')\n",
    "dc_listings['price'] = stripped_commas.apply(float)\n",
    "mean_price = dc_listings['price'].iloc[:5].mean()\n",
    "print(mean_price)"
   ]
  },
  {
   "cell_type": "markdown",
   "metadata": {},
   "source": [
    "## Function to make predictions"
   ]
  },
  {
   "cell_type": "code",
   "execution_count": 18,
   "metadata": {},
   "outputs": [
    {
     "name": "stdout",
     "output_type": "stream",
     "text": [
      "71.4\n",
      "67.8\n",
      "120.2\n"
     ]
    }
   ],
   "source": [
    "# Brought along the changes we made to the `dc_listings` Dataframe.\n",
    "dc_listings = pd.read_csv('dc_airbnb.csv')\n",
    "stripped_commas = dc_listings['price'].str.replace(',', '')\n",
    "stripped_dollars = stripped_commas.str.replace('$', '')\n",
    "dc_listings['price'] = stripped_dollars.astype('float')\n",
    "dc_listings = dc_listings.loc[np.random.permutation(len(dc_listings))]\n",
    "\n",
    "def predict_price(new_listing):\n",
    "    temp_df = dc_listings.copy()\n",
    "    temp_df['distance'] = temp_df['accommodates'].apply(lambda x : abs(x - new_listing))\n",
    "    mean_price = temp_df.sort_values('distance').iloc[:5]['price'].mean()\n",
    "    return mean_price\n",
    "\n",
    "acc_one = predict_price(1)\n",
    "acc_two = predict_price(2)\n",
    "acc_four = predict_price(4)\n",
    "print(acc_one)\n",
    "print(acc_two)\n",
    "print(acc_four)"
   ]
  },
  {
   "cell_type": "code",
   "execution_count": null,
   "metadata": {},
   "outputs": [],
   "source": []
  }
 ],
 "metadata": {
  "kernelspec": {
   "display_name": "Python (dataquest)",
   "language": "python",
   "name": "dataquest"
  },
  "language_info": {
   "codemirror_mode": {
    "name": "ipython",
    "version": 3
   },
   "file_extension": ".py",
   "mimetype": "text/x-python",
   "name": "python",
   "nbconvert_exporter": "python",
   "pygments_lexer": "ipython3",
   "version": "3.6.6"
  }
 },
 "nbformat": 4,
 "nbformat_minor": 2
}
