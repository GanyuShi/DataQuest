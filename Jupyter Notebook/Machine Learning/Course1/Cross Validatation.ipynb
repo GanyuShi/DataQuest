{
 "cells": [
  {
   "cell_type": "markdown",
   "metadata": {},
   "source": [
    "## holdout validation\n",
    "<li>splitting the full dataset into 2 partitions:</li>\n",
    "    <ul>\n",
    "        <li>a training set</li>\n",
    "        <li>a test set</li>\n",
    "    </ul>\n",
    "<li>training the model on the training set,</li>\n",
    "<li>using the trained model to predict labels on the test set,</li>\n",
    "<li>computing an error metric to understand the model's effectiveness,</li>\n",
    "<li>switch the training and test sets and repeat,</li>\n",
    "<li>average the errors.</li>"
   ]
  },
  {
   "cell_type": "code",
   "execution_count": 45,
   "metadata": {},
   "outputs": [],
   "source": [
    "import pandas as pd\n",
    "import numpy as np\n",
    "import matplotlib.pyplot as plt"
   ]
  },
  {
   "cell_type": "code",
   "execution_count": 46,
   "metadata": {},
   "outputs": [],
   "source": [
    "dc_listings = pd.read_csv('dc_airbnb.csv')\n",
    "dc_listings = dc_listings.iloc[np.random.permutation(len(dc_listings))]\n",
    "stripped_commas = dc_listings['price'].str.replace(',', '')\n",
    "stripped_dollars = stripped_commas.str.replace('$', '')\n",
    "dc_listings['price'] = stripped_dollars.astype('float')\n",
    "split_one = dc_listings.iloc[:1862].copy()\n",
    "split_two = dc_listings.iloc[1862:].copy()"
   ]
  },
  {
   "cell_type": "code",
   "execution_count": 47,
   "metadata": {},
   "outputs": [],
   "source": [
    "from sklearn.neighbors import KNeighborsRegressor\n",
    "from sklearn.metrics import mean_squared_error"
   ]
  },
  {
   "cell_type": "code",
   "execution_count": 48,
   "metadata": {},
   "outputs": [
    {
     "name": "stdout",
     "output_type": "stream",
     "text": [
      "(1862, 20)\n"
     ]
    }
   ],
   "source": [
    "print(train_one.shape)\n"
   ]
  },
  {
   "cell_type": "code",
   "execution_count": null,
   "metadata": {},
   "outputs": [],
   "source": []
  },
  {
   "cell_type": "code",
   "execution_count": 49,
   "metadata": {},
   "outputs": [
    {
     "name": "stdout",
     "output_type": "stream",
     "text": [
      "145.389456928\n",
      "121.488814424\n",
      "133.439135676\n"
     ]
    }
   ],
   "source": [
    "train_one = split_one\n",
    "test_one = split_two\n",
    "train_two = split_two\n",
    "test_two = split_one\n",
    "\n",
    "def cal_rmse(train, test):\n",
    "    knn = KNeighborsRegressor()\n",
    "    knn.fit(train[['accommodates']], train['price'])\n",
    "    predictions = knn.predict(test[['accommodates']])\n",
    "    mse = mean_squared_error(predictions, test['price'])\n",
    "    return np.sqrt(mse)\n",
    "iteration_one_rmse = cal_rmse(train_one, test_one)\n",
    "iteration_two_rmse = cal_rmse(train_two, test_two)\n",
    "print(iteration_one_rmse)\n",
    "print(iteration_two_rmse)\n",
    "avg_rmse = np.mean([iteration_two_rmse, iteration_one_rmse])\n",
    "print(avg_rmse)"
   ]
  },
  {
   "cell_type": "code",
   "execution_count": 50,
   "metadata": {},
   "outputs": [
    {
     "name": "stdout",
     "output_type": "stream",
     "text": [
      "145.389456928 121.488814424 133.439135676\n"
     ]
    }
   ],
   "source": [
    "train_one = split_one\n",
    "test_one = split_two\n",
    "train_two = split_two\n",
    "test_two = split_one\n",
    "# First half\n",
    "model = KNeighborsRegressor()\n",
    "model.fit(train_one[[\"accommodates\"]], train_one[\"price\"])\n",
    "test_one[\"predicted_price\"] = model.predict(test_one[[\"accommodates\"]])\n",
    "iteration_one_rmse = mean_squared_error(test_one[\"price\"], test_one[\"predicted_price\"])**(1/2)\n",
    "\n",
    "# Second half\n",
    "model.fit(train_two[[\"accommodates\"]], train_two[\"price\"])\n",
    "test_two[\"predicted_price\"] = model.predict(test_two[[\"accommodates\"]])\n",
    "iteration_two_rmse = mean_squared_error(test_two[\"price\"], test_two[\"predicted_price\"])**(1/2)\n",
    "\n",
    "avg_rmse = np.mean([iteration_two_rmse, iteration_one_rmse])\n",
    "\n",
    "print(iteration_one_rmse, iteration_two_rmse, avg_rmse)"
   ]
  },
  {
   "cell_type": "markdown",
   "metadata": {},
   "source": [
    "## k-fold cross-validation\n",
    "<li>splitting the full dataset into k equal length partitions.</li>\n",
    "    <ul>\n",
    "    <li>selecting k-1 partitions as the training set and</li>\n",
    "    <li>selecting the remaining partition as the test set</li>\n",
    "    </ul>\n",
    "<li>training the model on the training set.</li>\n",
    "<li>using the trained model to predict labels on the test fold.</li>\n",
    "<li>computing the test fold's error metric.</li>\n",
    "<li>repeating all of the above steps k-1 times, until each partition has been used as the test set for an iteration.</li>\n",
    "<li>calculating the mean of the k error values.</li>"
   ]
  },
  {
   "cell_type": "code",
   "execution_count": 51,
   "metadata": {},
   "outputs": [],
   "source": [
    "# look at how to split into folds below:\n",
    "dc_listings.loc[dc_listings.index[0:745], \"fold\"] = 1\n",
    "dc_listings.loc[dc_listings.index[745:1490], \"fold\"] = 2\n",
    "dc_listings.loc[dc_listings.index[1490:2234], \"fold\"] = 3\n",
    "dc_listings.loc[dc_listings.index[2234:2978], \"fold\"] = 4\n",
    "dc_listings.loc[dc_listings.index[2978:3723], \"fold\"] = 5\n"
   ]
  },
  {
   "cell_type": "code",
   "execution_count": null,
   "metadata": {},
   "outputs": [],
   "source": []
  },
  {
   "cell_type": "code",
   "execution_count": 52,
   "metadata": {},
   "outputs": [
    {
     "data": {
      "text/plain": [
       "5.0    745\n",
       "2.0    745\n",
       "1.0    745\n",
       "4.0    744\n",
       "3.0    744\n",
       "Name: fold, dtype: int64"
      ]
     },
     "execution_count": 52,
     "metadata": {},
     "output_type": "execute_result"
    }
   ],
   "source": [
    "dc_listings['fold'].value_counts()"
   ]
  },
  {
   "cell_type": "code",
   "execution_count": 53,
   "metadata": {},
   "outputs": [
    {
     "data": {
      "text/plain": [
       "132.72601298724351"
      ]
     },
     "execution_count": 53,
     "metadata": {},
     "output_type": "execute_result"
    }
   ],
   "source": [
    "train_df = dc_listings[dc_listings['fold'] != 1]\n",
    "test_df = dc_listings[dc_listings['fold'] == 1]\n",
    "knn = KNeighborsRegressor()\n",
    "knn.fit(train_df[['accommodates']], train_df['price'])\n",
    "predictions = knn.predict(test_df[['accommodates']])\n",
    "mse = mean_squared_error(predictions, test_df['price'])\n",
    "iteration_one_rmse = np.sqrt(mse)\n",
    "iteration_one_rmse"
   ]
  },
  {
   "cell_type": "code",
   "execution_count": 54,
   "metadata": {},
   "outputs": [],
   "source": [
    "def train_and_validate(df, folds):\n",
    "    rmses = []\n",
    "    knn = KNeighborsRegressor()\n",
    "    for i in range(1, folds + 1):\n",
    "        train = df[df['fold'] != i]\n",
    "        test = df[df['fold'] == i]\n",
    "        knn.fit(train[['accommodates']], train['price'])\n",
    "        predictions = knn.predict(test[['accommodates']])\n",
    "        mse = mean_squared_error(predictions, test['price'])\n",
    "        rmses.append(np.sqrt(mse))\n",
    "    return rmses"
   ]
  },
  {
   "cell_type": "code",
   "execution_count": 57,
   "metadata": {},
   "outputs": [
    {
     "name": "stdout",
     "output_type": "stream",
     "text": [
      "[132.72601298724351, 161.02763529549534, 137.22042780304838, 158.47733683502693, 134.10222625761409]\n",
      "144.710727836\n"
     ]
    }
   ],
   "source": [
    "rmses = train_and_validate(dc_listings, 5)\n",
    "avg_rmse = np.mean(rmses)\n",
    "print(rmses)\n",
    "print(avg_rmse)"
   ]
  },
  {
   "cell_type": "markdown",
   "metadata": {},
   "source": [
    "## sklearn.model_selection\n",
    "from sklearn.model_selection import KFold\n",
    "kf = KFold(n_splits, shuffle=False, random_state=None)\n",
    "\n",
    "from sklearn.model_selection import cross_val_score\n",
    "cross_val_score(estimator, X, Y, scoring=None, cv=None)\n",
    "\n",
    "<li>instantiate the scikit-learn model class you want to fit,</li>\n",
    "<li>instantiate the KFold class and using the parameters to specify the k-fold cross-validation attributes you want,</li>\n",
    "<li>use the cross_val_score() function to return the scoring metric you're interested in.</li>"
   ]
  },
  {
   "cell_type": "code",
   "execution_count": 63,
   "metadata": {},
   "outputs": [],
   "source": [
    "from sklearn.model_selection import KFold, cross_val_score\n",
    "kf = KFold(n_splits=5, shuffle=True, random_state=1)\n",
    "knn = KNeighborsRegressor()\n",
    "mses = cross_val_score(estimator=knn, X=dc_listings[['accommodates']], scoring=\"neg_mean_squared_error\", y=dc_listings['price'], cv=kf)\n",
    "avg_rmse = np.sqrt(np.absolute(mses)).mean()"
   ]
  },
  {
   "cell_type": "code",
   "execution_count": 64,
   "metadata": {},
   "outputs": [
    {
     "data": {
      "text/plain": [
       "129.3992056481454"
      ]
     },
     "execution_count": 64,
     "metadata": {},
     "output_type": "execute_result"
    }
   ],
   "source": [
    "avg_rmse"
   ]
  },
  {
   "cell_type": "code",
   "execution_count": 65,
   "metadata": {},
   "outputs": [
    {
     "name": "stdout",
     "output_type": "stream",
     "text": [
      "3 folds:  avg RMSE:  131.385308835 std RMSE:  5.96796480742\n",
      "5 folds:  avg RMSE:  129.399205648 std RMSE:  12.1782098885\n",
      "7 folds:  avg RMSE:  126.451277775 std RMSE:  21.0599752859\n",
      "9 folds:  avg RMSE:  128.943862599 std RMSE:  27.6231159582\n",
      "10 folds:  avg RMSE:  135.032591014 std RMSE:  26.3726757307\n",
      "11 folds:  avg RMSE:  130.71939193 std RMSE:  35.8440196593\n",
      "13 folds:  avg RMSE:  135.652111378 std RMSE:  30.1222852488\n",
      "15 folds:  avg RMSE:  128.513759695 std RMSE:  29.4054952241\n",
      "17 folds:  avg RMSE:  131.660759634 std RMSE:  35.4332741402\n",
      "19 folds:  avg RMSE:  132.419427262 std RMSE:  32.4121688009\n",
      "21 folds:  avg RMSE:  130.570428452 std RMSE:  34.8565286082\n",
      "23 folds:  avg RMSE:  124.719963163 std RMSE:  37.4324380026\n"
     ]
    }
   ],
   "source": [
    "num_folds = [3, 5, 7, 9, 10, 11, 13, 15, 17, 19, 21, 23]\n",
    "\n",
    "for fold in num_folds:\n",
    "    kf = KFold(fold, shuffle=True, random_state=1)\n",
    "    model = KNeighborsRegressor()\n",
    "    mses = cross_val_score(model, dc_listings[[\"accommodates\"]], dc_listings[\"price\"], scoring=\"neg_mean_squared_error\", cv=kf)\n",
    "    rmses = np.sqrt(np.absolute(mses))\n",
    "    avg_rmse = np.mean(rmses)\n",
    "    std_rmse = np.std(rmses)\n",
    "    print(str(fold), \"folds: \", \"avg RMSE: \", str(avg_rmse), \"std RMSE: \", str(std_rmse))"
   ]
  },
  {
   "cell_type": "markdown",
   "metadata": {},
   "source": [
    "##  Bias-Variance Tradeoff\n"
   ]
  },
  {
   "cell_type": "code",
   "execution_count": null,
   "metadata": {},
   "outputs": [],
   "source": []
  }
 ],
 "metadata": {
  "kernelspec": {
   "display_name": "Python (dataquest)",
   "language": "python",
   "name": "dataquest"
  },
  "language_info": {
   "codemirror_mode": {
    "name": "ipython",
    "version": 3
   },
   "file_extension": ".py",
   "mimetype": "text/x-python",
   "name": "python",
   "nbconvert_exporter": "python",
   "pygments_lexer": "ipython3",
   "version": "3.6.6"
  }
 },
 "nbformat": 4,
 "nbformat_minor": 2
}
