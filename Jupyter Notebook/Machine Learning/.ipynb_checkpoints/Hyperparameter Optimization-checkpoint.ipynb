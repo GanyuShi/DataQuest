{
 "cells": [
  {
   "cell_type": "code",
   "execution_count": 1,
   "metadata": {},
   "outputs": [],
   "source": [
    "import pandas as pd\n",
    "import numpy as np\n"
   ]
  },
  {
   "cell_type": "code",
   "execution_count": 2,
   "metadata": {},
   "outputs": [],
   "source": [
    "train_df = pd.read_csv('dc_airbnb_train.csv')\n",
    "test_df = pd.read_csv('dc_airbnb_test.csv')"
   ]
  },
  {
   "cell_type": "markdown",
   "metadata": {},
   "source": [
    "## Grid Search"
   ]
  },
  {
   "cell_type": "code",
   "execution_count": 8,
   "metadata": {},
   "outputs": [
    {
     "name": "stdout",
     "output_type": "stream",
     "text": [
      "[26364.928327645051, 15100.522468714449, 14578.804070281883, 15946.721060864618, 14119.735836177475, 13495.781569965869, 14209.360474565252, 14615.818988196814, 14591.371971516453, 14608.888509670078, 14747.643537453343, 14802.514876437872, 14726.607851848858, 14788.004486777645, 14775.071925167487, 14846.632372546928, 14801.420334526101, 14761.434233626876, 14750.644695086017, 14653.391259954493]\n"
     ]
    }
   ],
   "source": [
    "from sklearn.neighbors import KNeighborsRegressor\n",
    "from sklearn.metrics import mean_squared_error\n",
    "\n",
    "features = ['accommodates',\n",
    "    'bedrooms',\n",
    "    'bathrooms',\n",
    "    'number_of_reviews']\n",
    "hyper_params = range(1, 21)\n",
    "mse_values =[]\n",
    "for k in hyper_params:\n",
    "    knn = KNeighborsRegressor(n_neighbors=k, algorithm='brute')\n",
    "    knn.fit(train_df[features], train_df['price'])\n",
    "    predictions = knn.predict(test_df[features])\n",
    "    mse = mean_squared_error(predictions, test_df['price'])\n",
    "    mse_values.append(mse)\n",
    "print(mse_values)"
   ]
  },
  {
   "cell_type": "code",
   "execution_count": null,
   "metadata": {},
   "outputs": [],
   "source": []
  },
  {
   "cell_type": "code",
   "execution_count": 6,
   "metadata": {},
   "outputs": [],
   "source": [
    "import matplotlib.pyplot as plt"
   ]
  },
  {
   "cell_type": "code",
   "execution_count": 9,
   "metadata": {},
   "outputs": [
    {
     "data": {
      "text/plain": [
       "[<matplotlib.lines.Line2D at 0x1a1916ca58>]"
      ]
     },
     "execution_count": 9,
     "metadata": {},
     "output_type": "execute_result"
    },
    {
     "data": {
      "image/png": "[encoded data removed]",
      "text/plain": [
       "<Figure size 432x288 with 1 Axes>"
      ]
     },
     "metadata": {},
     "output_type": "display_data"
    }
   ],
   "source": [
    "plt.plot(mse_values)"
   ]
  },
  {
   "cell_type": "code",
   "execution_count": 10,
   "metadata": {},
   "outputs": [
    {
     "data": {
      "image/png": "[encoded data removed]",
      "text/plain": [
       "<Figure size 432x288 with 1 Axes>"
      ]
     },
     "metadata": {},
     "output_type": "display_data"
    }
   ],
   "source": [
    "plt.scatter(hyper_params, mse_values)\n",
    "plt.show()"
   ]
  },
  {
   "cell_type": "code",
   "execution_count": 16,
   "metadata": {},
   "outputs": [
    {
     "name": "stdout",
     "output_type": "stream",
     "text": [
      "[23303.759954493744, 14917.940273037542, 15006.17772721527, 15428.660409556314, 15275.559089874858, 15482.547117937047, 14958.776485338165, 15122.70925767918, 15074.869478503912, 14821.576928327642, 14719.231367350201, 14810.321530147898, 14880.471622540406, 14971.06302384435, 14969.896063708758, 15079.081013580773, 15105.101042786117, 15263.298634812287, 15219.189512761604, 15213.659254835042]\n"
     ]
    }
   ],
   "source": [
    "features = train_df.columns.tolist()\n",
    "features.remove('price')\n",
    "hyper_params = range(1, 21)\n",
    "mse_values =[]\n",
    "for k in hyper_params:\n",
    "    knn = KNeighborsRegressor(n_neighbors=k, algorithm='brute')\n",
    "    knn.fit(train_df[features], train_df['price'])\n",
    "    predictions = knn.predict(test_df[features])\n",
    "    mse = mean_squared_error(predictions, test_df['price'])\n",
    "    mse_values.append(mse)\n",
    "print(mse_values)"
   ]
  },
  {
   "cell_type": "code",
   "execution_count": 17,
   "metadata": {
    "scrolled": true
   },
   "outputs": [
    {
     "data": {
      "image/png": "[encoded data removed]",
      "text/plain": [
       "<Figure size 432x288 with 1 Axes>"
      ]
     },
     "metadata": {},
     "output_type": "display_data"
    }
   ],
   "source": [
    "plt.scatter(hyper_params, mse_values)\n",
    "plt.show()"
   ]
  },
  {
   "cell_type": "markdown",
   "metadata": {},
   "source": [
    "## general workflow for finding the best model is:\n",
    "<ol>\n",
    "<li>select relevant features to use for predicting the target column.</li>\n",
    "<li>use grid search to find the optimal hyperparameter value for the selected features.</li>\n",
    "<li>evaluate the model's accuracy and repeat the process.</li>\n",
    "</ol>"
   ]
  },
  {
   "cell_type": "code",
   "execution_count": 18,
   "metadata": {},
   "outputs": [],
   "source": [
    "def cal_mse(features):\n",
    "    mse_values = []\n",
    "    for k in hyper_params:\n",
    "        knn = KNeighborsRegressor(n_neighbors=k, algorithm='brute')\n",
    "        knn.fit(train_df[features], train_df['price'])\n",
    "        predictions = knn.predict(test_df[features])\n",
    "        mse = mean_squared_error(predictions, test_df['price'])\n",
    "        mse_values.append(mse)\n",
    "    return mse_values"
   ]
  },
  {
   "cell_type": "code",
   "execution_count": 19,
   "metadata": {},
   "outputs": [],
   "source": [
    "two_features = ['accommodates', 'bathrooms']\n",
    "three_features = ['accommodates', 'bathrooms', 'bedrooms']\n",
    "hyper_params = range(1, 21)\n",
    "two_features_mse = cal_mse(two_features)\n",
    "three_features_mse = cal_mse(three_features)"
   ]
  },
  {
   "cell_type": "code",
   "execution_count": 21,
   "metadata": {},
   "outputs": [
    {
     "name": "stdout",
     "output_type": "stream",
     "text": [
      "{5: 14790.314266211606}\n"
     ]
    }
   ],
   "source": [
    "two_features_min_mse = min(two_features_mse)\n",
    "two_features_opt_k = two_features_mse.index(two_features_min_mse) + 1\n",
    "two_hyp_mse = {}\n",
    "two_hyp_mse[two_features_opt_k] = two_features_min_mse\n",
    "print(two_hyp_mse)"
   ]
  },
  {
   "cell_type": "code",
   "execution_count": 22,
   "metadata": {},
   "outputs": [],
   "source": [
    "def cal_hyp_mse(mse):\n",
    "    min_mse = min(mse)\n",
    "    opt_k = mse.index(min_mse) + 1\n",
    "    hyp_mse = {}\n",
    "    hyp_mse[opt_k] = min_mse\n",
    "    return hyp_mse"
   ]
  },
  {
   "cell_type": "code",
   "execution_count": 23,
   "metadata": {},
   "outputs": [
    {
     "name": "stdout",
     "output_type": "stream",
     "text": [
      "{5: 14790.314266211606}\n",
      "{7: 13518.769009310208}\n"
     ]
    }
   ],
   "source": [
    "two_hyp_mse = cal_hyp_mse(two_features_mse)\n",
    "three_hyp_mse = cal_hyp_mse(three_features_mse)\n",
    "print(two_hyp_mse)\n",
    "print(three_hyp_mse)"
   ]
  },
  {
   "cell_type": "code",
   "execution_count": null,
   "metadata": {},
   "outputs": [],
   "source": []
  }
 ],
 "metadata": {
  "kernelspec": {
   "display_name": "Python (dataquest)",
   "language": "python",
   "name": "dataquest"
  },
  "language_info": {
   "codemirror_mode": {
    "name": "ipython",
    "version": 3
   },
   "file_extension": ".py",
   "mimetype": "text/x-python",
   "name": "python",
   "nbconvert_exporter": "python",
   "pygments_lexer": "ipython3",
   "version": "3.6.6"
  }
 },
 "nbformat": 4,
 "nbformat_minor": 2
}
