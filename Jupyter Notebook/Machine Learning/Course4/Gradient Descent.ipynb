{
 "cells": [
  {
   "cell_type": "code",
   "execution_count": 42,
   "metadata": {},
   "outputs": [],
   "source": [
    "import pandas as pd\n",
    "import numpy as np"
   ]
  },
  {
   "cell_type": "code",
   "execution_count": 43,
   "metadata": {},
   "outputs": [],
   "source": [
    "data = pd.read_csv('AmesHousing.txt', delimiter='\\t')\n",
    "train = data[:1460]\n",
    "test = data[1460:]"
   ]
  },
  {
   "cell_type": "code",
   "execution_count": 44,
   "metadata": {},
   "outputs": [],
   "source": [
    "numerical_train = train.select_dtypes(['int', 'float'])\n",
    "numerical_train = numerical_train.drop(['PID',\n",
    "                                        'Year Built',\n",
    "                                        'Year Remod/Add',\n",
    "                                        'Garage Yr Blt',\n",
    "                                        'Mo Sold',\n",
    "                                        'Yr Sold'],\n",
    "                                      axis=1)"
   ]
  },
  {
   "cell_type": "code",
   "execution_count": 45,
   "metadata": {},
   "outputs": [
    {
     "data": {
      "text/plain": [
       "Order                0\n",
       "MS SubClass          0\n",
       "Lot Frontage       249\n",
       "Lot Area             0\n",
       "Overall Qual         0\n",
       "Overall Cond         0\n",
       "Mas Vnr Area        11\n",
       "BsmtFin SF 1         1\n",
       "BsmtFin SF 2         1\n",
       "Bsmt Unf SF          1\n",
       "Total Bsmt SF        1\n",
       "1st Flr SF           0\n",
       "2nd Flr SF           0\n",
       "Low Qual Fin SF      0\n",
       "Gr Liv Area          0\n",
       "Bsmt Full Bath       1\n",
       "Bsmt Half Bath       1\n",
       "Full Bath            0\n",
       "Half Bath            0\n",
       "Bedroom AbvGr        0\n",
       "Kitchen AbvGr        0\n",
       "TotRms AbvGrd        0\n",
       "Fireplaces           0\n",
       "Garage Cars          0\n",
       "Garage Area          0\n",
       "Wood Deck SF         0\n",
       "Open Porch SF        0\n",
       "Enclosed Porch       0\n",
       "3Ssn Porch           0\n",
       "Screen Porch         0\n",
       "Pool Area            0\n",
       "Misc Val             0\n",
       "SalePrice            0\n",
       "dtype: int64"
      ]
     },
     "execution_count": 45,
     "metadata": {},
     "output_type": "execute_result"
    }
   ],
   "source": [
    "null_series = numerical_train.isnull().sum()\n",
    "null_series"
   ]
  },
  {
   "cell_type": "code",
   "execution_count": 46,
   "metadata": {},
   "outputs": [
    {
     "data": {
      "text/plain": [
       "Order              0\n",
       "MS SubClass        0\n",
       "Lot Area           0\n",
       "Overall Qual       0\n",
       "Overall Cond       0\n",
       "1st Flr SF         0\n",
       "2nd Flr SF         0\n",
       "Low Qual Fin SF    0\n",
       "Gr Liv Area        0\n",
       "Full Bath          0\n",
       "Half Bath          0\n",
       "Bedroom AbvGr      0\n",
       "Kitchen AbvGr      0\n",
       "TotRms AbvGrd      0\n",
       "Fireplaces         0\n",
       "Garage Cars        0\n",
       "Garage Area        0\n",
       "Wood Deck SF       0\n",
       "Open Porch SF      0\n",
       "Enclosed Porch     0\n",
       "3Ssn Porch         0\n",
       "Screen Porch       0\n",
       "Pool Area          0\n",
       "Misc Val           0\n",
       "SalePrice          0\n",
       "dtype: int64"
      ]
     },
     "execution_count": 46,
     "metadata": {},
     "output_type": "execute_result"
    }
   ],
   "source": [
    "full_cols_series = null_series[null_series==0]\n",
    "full_cols_series"
   ]
  },
  {
   "cell_type": "code",
   "execution_count": 47,
   "metadata": {},
   "outputs": [
    {
     "data": {
      "text/plain": [
       "Misc Val           0.009903\n",
       "3Ssn Porch         0.038699\n",
       "Low Qual Fin SF    0.060352\n",
       "Order              0.068181\n",
       "MS SubClass        0.088504\n",
       "Overall Cond       0.099395\n",
       "Screen Porch       0.100121\n",
       "Bedroom AbvGr      0.106941\n",
       "Kitchen AbvGr      0.130843\n",
       "Pool Area          0.145474\n",
       "Enclosed Porch     0.165873\n",
       "2nd Flr SF         0.202352\n",
       "Half Bath          0.272870\n",
       "Lot Area           0.274730\n",
       "Wood Deck SF       0.319104\n",
       "Open Porch SF      0.344383\n",
       "TotRms AbvGrd      0.483701\n",
       "Fireplaces         0.485683\n",
       "Full Bath          0.518194\n",
       "1st Flr SF         0.657119\n",
       "Garage Area        0.662397\n",
       "Garage Cars        0.663485\n",
       "Gr Liv Area        0.698990\n",
       "Overall Qual       0.804562\n",
       "SalePrice          1.000000\n",
       "Name: SalePrice, dtype: float64"
      ]
     },
     "execution_count": 47,
     "metadata": {},
     "output_type": "execute_result"
    }
   ],
   "source": [
    "train_subset = train[full_cols_series.index]\n",
    "corrmat = train_subset.corr()\n",
    "sorted_corrs = corrmat['SalePrice'].abs().sort_values()\n",
    "sorted_corrs"
   ]
  },
  {
   "cell_type": "code",
   "execution_count": 49,
   "metadata": {},
   "outputs": [
    {
     "data": {
      "text/plain": [
       "<matplotlib.axes._subplots.AxesSubplot at 0x1a201c0390>"
      ]
     },
     "execution_count": 49,
     "metadata": {},
     "output_type": "execute_result"
    },
    {
     "data": {
      "image/png": "[encoded data removed]",
      "text/plain": [
       "<Figure size 432x288 with 2 Axes>"
      ]
     },
     "metadata": {},
     "output_type": "display_data"
    }
   ],
   "source": [
    "import seaborn\n",
    "strong_corrs = sorted_corrs[sorted_corrs > 0.3]\n",
    "corrmat = train_subset[strong_corrs.index].corr()\n",
    "seaborn.heatmap(corrmat)"
   ]
  },
  {
   "cell_type": "code",
   "execution_count": 56,
   "metadata": {},
   "outputs": [
    {
     "name": "stdout",
     "output_type": "stream",
     "text": [
      "<class 'pandas.core.frame.DataFrame'>\n",
      "RangeIndex: 1470 entries, 1460 to 2929\n",
      "Data columns (total 9 columns):\n",
      "Wood Deck SF     1470 non-null int64\n",
      "Open Porch SF    1470 non-null int64\n",
      "Fireplaces       1470 non-null int64\n",
      "Full Bath        1470 non-null int64\n",
      "1st Flr SF       1470 non-null int64\n",
      "Garage Area      1469 non-null float64\n",
      "Gr Liv Area      1470 non-null int64\n",
      "Overall Qual     1470 non-null int64\n",
      "SalePrice        1470 non-null int64\n",
      "dtypes: float64(1), int64(8)\n",
      "memory usage: 103.4 KB\n"
     ]
    }
   ],
   "source": [
    "final_corr_cols = strong_corrs.drop(['Garage Cars', 'TotRms AbvGrd'])\n",
    "test[final_corr_cols.index].info()"
   ]
  },
  {
   "cell_type": "code",
   "execution_count": 60,
   "metadata": {},
   "outputs": [
    {
     "name": "stdout",
     "output_type": "stream",
     "text": [
      "<class 'pandas.core.frame.DataFrame'>\n",
      "Int64Index: 1469 entries, 1460 to 2929\n",
      "Data columns (total 9 columns):\n",
      "Wood Deck SF     1469 non-null int64\n",
      "Open Porch SF    1469 non-null int64\n",
      "Fireplaces       1469 non-null int64\n",
      "Full Bath        1469 non-null int64\n",
      "1st Flr SF       1469 non-null int64\n",
      "Garage Area      1469 non-null float64\n",
      "Gr Liv Area      1469 non-null int64\n",
      "Overall Qual     1469 non-null int64\n",
      "SalePrice        1469 non-null int64\n",
      "dtypes: float64(1), int64(8)\n",
      "memory usage: 114.8 KB\n"
     ]
    }
   ],
   "source": [
    "clean_test = test[final_corr_cols.index].dropna(axis=0)\n",
    "clean_test.info()"
   ]
  },
  {
   "cell_type": "code",
   "execution_count": 61,
   "metadata": {},
   "outputs": [],
   "source": [
    "features = final_corr_cols.drop(['SalePrice']).index"
   ]
  },
  {
   "cell_type": "code",
   "execution_count": 63,
   "metadata": {},
   "outputs": [
    {
     "data": {
      "text/plain": [
       "120.14219147202738"
      ]
     },
     "execution_count": 63,
     "metadata": {},
     "output_type": "execute_result"
    }
   ],
   "source": [
    "def derivative(a1, xi_list, yi_list):\n",
    "    n = len(xi_list)\n",
    "    total = 0\n",
    "    for i in range(n):\n",
    "        xi = xi_list[i]\n",
    "        yi = yi_list[i]\n",
    "        total += xi * (a1 * xi - yi)\n",
    "    return 2 / n * total\n",
    "\n",
    "def gradient_descent(xi_list, yi_list, max_iterations, alpha, a1_initial):\n",
    "    a1_list = [a1_initial]\n",
    "\n",
    "    for i in range(0, max_iterations):\n",
    "        a1 = a1_list[i]\n",
    "        deriv = derivative(a1, xi_list, yi_list)\n",
    "        a1_new = a1 - alpha*deriv\n",
    "        a1_list.append(a1_new)\n",
    "    return(a1_list)\n",
    "\n",
    "# Uncomment when ready.\n",
    "param_iterations = gradient_descent(train['Gr Liv Area'], train['SalePrice'], 20, .0000003, 150)\n",
    "final_param = param_iterations[-1]\n",
    "final_param"
   ]
  },
  {
   "cell_type": "code",
   "execution_count": 64,
   "metadata": {},
   "outputs": [],
   "source": [
    "def a0_derivative(a0, a1, xi_list, yi_list):\n",
    "    n = len(xi_list)\n",
    "    error = 0\n",
    "    for i in range(n):\n",
    "        xi = xi_list[i]\n",
    "        yi = yi_list[i]\n",
    "        error += a0 + a1 * xi - yi\n",
    "    a0_deriv = error * 2 / n\n",
    "    return a0_deriv\n",
    "\n",
    "def a1_derivative(a0, a1, xi_list, yi_list):\n",
    "    n = len(xi_list)\n",
    "    error = 0\n",
    "    for i in range(n):\n",
    "        xi = xi_list[i]\n",
    "        yi = yi_list[i]\n",
    "        error += (a0 + a1 * xi - yi) * xi\n",
    "    a1_deriv = 2 * error / n\n",
    "    return a1_deriv\n",
    "\n",
    "def gradient_descent(xi_list, yi_list, max_interations, alpha, a1_initial, a0_initial):\n",
    "    a1_list = [a1_initial]\n",
    "    a0_list = [a0_initial]\n",
    "    for i in range(max_interations):\n",
    "        a1 = a1_list[i]\n",
    "        a0 = a0_list[i]\n",
    "        \n",
    "        a1_deriv = a1_derivative(a0, a1, xi_list, yi_list)\n",
    "        a0_deriv = a0_derivative(a0, a1, xi_list, yi_list)\n",
    "        \n",
    "        a1_new = a1 - alpha*a1_deriv\n",
    "        a0_new = a0 - alpha*a0_deriv\n",
    "        \n",
    "        a1_list.append(a1_new)\n",
    "        a0_list.append(a0_new)\n",
    "    return(a0_list, a1_list)\n",
    "\n",
    "a0_params, a1_params = gradient_descent(train['Gr Liv Area'], train['SalePrice'], 20, .0000003, 150, 1000)\n",
    "        "
   ]
  },
  {
   "cell_type": "code",
   "execution_count": 65,
   "metadata": {},
   "outputs": [
    {
     "data": {
      "text/plain": [
       "[1000,\n",
       " 999.97297978123288,\n",
       " 999.98590370106604,\n",
       " 999.98023254713905,\n",
       " 999.98321790150521,\n",
       " 999.9821734177915,\n",
       " 999.98300493236297,\n",
       " 999.98296311912168,\n",
       " 999.98332786351068,\n",
       " 999.98350334433997,\n",
       " 999.98376693244177,\n",
       " 999.98398950421347,\n",
       " 999.98423117017433,\n",
       " 999.98446394725659,\n",
       " 999.98470086233294,\n",
       " 999.98493585104279,\n",
       " 999.98517173650964,\n",
       " 999.9854072044933,\n",
       " 999.98564286680801,\n",
       " 999.98587843863777,\n",
       " 999.98611405257202]"
      ]
     },
     "execution_count": 65,
     "metadata": {},
     "output_type": "execute_result"
    }
   ],
   "source": [
    "a0_params"
   ]
  },
  {
   "cell_type": "code",
   "execution_count": 67,
   "metadata": {},
   "outputs": [
    {
     "data": {
      "text/plain": [
       "[150,\n",
       " 105.34801721547944,\n",
       " 126.13471917628125,\n",
       " 116.45794862200977,\n",
       " 120.96274606972909,\n",
       " 118.86564116059868,\n",
       " 119.84189984026605,\n",
       " 119.38742488614261,\n",
       " 119.59899502291616,\n",
       " 119.50050320781361,\n",
       " 119.54635359313434,\n",
       " 119.52500879150305,\n",
       " 119.53494516153384,\n",
       " 119.53031930255781,\n",
       " 119.53247255390217,\n",
       " 119.53146994657168,\n",
       " 119.53193647656232,\n",
       " 119.53171908350993,\n",
       " 119.53182007507831,\n",
       " 119.53177285001942,\n",
       " 119.53179462379771]"
      ]
     },
     "execution_count": 67,
     "metadata": {},
     "output_type": "execute_result"
    }
   ],
   "source": [
    "a1_params"
   ]
  },
  {
   "cell_type": "code",
   "execution_count": null,
   "metadata": {},
   "outputs": [],
   "source": []
  }
 ],
 "metadata": {
  "kernelspec": {
   "display_name": "Python (dataquest)",
   "language": "python",
   "name": "dataquest"
  },
  "language_info": {
   "codemirror_mode": {
    "name": "ipython",
    "version": 3
   },
   "file_extension": ".py",
   "mimetype": "text/x-python",
   "name": "python",
   "nbconvert_exporter": "python",
   "pygments_lexer": "ipython3",
   "version": "3.6.6"
  }
 },
 "nbformat": 4,
 "nbformat_minor": 2
}
