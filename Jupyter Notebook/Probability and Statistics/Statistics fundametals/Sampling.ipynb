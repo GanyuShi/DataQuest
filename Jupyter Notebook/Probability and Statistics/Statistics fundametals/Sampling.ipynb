{
 "cells": [
  {
   "cell_type": "code",
   "execution_count": 19,
   "metadata": {},
   "outputs": [
    {
     "name": "stdout",
     "output_type": "stream",
     "text": [
      "(143, 32)\n",
      "              Name Team  Pos  Height  Weight        BMI Birth_Place  \\\n",
      "0    Aerial Powers  DAL    F     183    71.0  21.200991          US   \n",
      "1      Alana Beard   LA  G/F     185    73.0  21.329438          US   \n",
      "2     Alex Bentley  CON    G     170    69.0  23.875433          US   \n",
      "3  Alex Montgomery  SAN  G/F     185    84.0  24.543462          US   \n",
      "4     Alexis Jones  MIN    G     175    78.0  25.469388          US   \n",
      "\n",
      "           Birthdate  Age         College ...  OREB  DREB  REB  AST  STL  BLK  \\\n",
      "0   January 17, 1994   23  Michigan State ...     6    22   28   12    3    6   \n",
      "1       May 14, 1982   35            Duke ...    19    82  101   72   63   13   \n",
      "2   October 27, 1990   26      Penn State ...     4    36   40   78   22    3   \n",
      "3  December 11, 1988   28    Georgia Tech ...    35   134  169   65   20   10   \n",
      "4     August 5, 1994   23          Baylor ...     3     9   12   12    7    0   \n",
      "\n",
      "   TO  PTS  DD2  TD3  \n",
      "0  12   93    0    0  \n",
      "1  40  217    0    0  \n",
      "2  24  218    0    0  \n",
      "3  38  188    2    0  \n",
      "4  14   50    0    0  \n",
      "\n",
      "[5 rows x 32 columns]\n"
     ]
    }
   ],
   "source": [
    "import pandas as pd\n",
    "import matplotlib.pyplot as plt\n",
    "wnba = pd.read_csv('wnba.csv')\n",
    "print(wnba.shape)\n",
    "print(wnba.head())"
   ]
  },
  {
   "cell_type": "code",
   "execution_count": 16,
   "metadata": {},
   "outputs": [
    {
     "name": "stdout",
     "output_type": "stream",
     "text": [
      "{'F': 8.7021751585455682, 'G/F': 6.8172649357604866, 'C': 9.8337613943342514, 'G': 7.0929261956323426, 'F/C': 9.059118773946361}\n",
      "position_most_points; C\n"
     ]
    }
   ],
   "source": [
    "wnba['Pts_per_game'] = wnba['PTS'] / wnba['Games Played']\n",
    "pos = ['F', 'G/F', 'C', 'G', 'F/C']\n",
    "strata = {}\n",
    "res = {}\n",
    "for p in pos:\n",
    "    strata[p] = wnba[wnba['Pos'] == p]\n",
    "for k,v in strata.items():\n",
    "    res[k] = v['Pts_per_game'].sample(10, random_state=0).mean()\n",
    "print(res)\n",
    "k = res.keys()\n",
    "v = res.values()\n",
    "position_most_points = max(res, key=res.get)\n",
    "print('position_most_points;', position_most_points)"
   ]
  },
  {
   "cell_type": "code",
   "execution_count": 17,
   "metadata": {},
   "outputs": [
    {
     "data": {
      "text/plain": [
       "(22.0, 32.0]     72.727273\n",
       "(12.0, 22.0]     18.181818\n",
       "(1.969, 12.0]     9.090909\n",
       "Name: Games Played, dtype: float64"
      ]
     },
     "execution_count": 17,
     "metadata": {},
     "output_type": "execute_result"
    }
   ],
   "source": [
    "wnba['Games Played'].value_counts(bins = 3, normalize = True) * 100"
   ]
  },
  {
   "cell_type": "code",
   "execution_count": 20,
   "metadata": {},
   "outputs": [
    {
     "data": {
      "text/plain": [
       "<matplotlib.lines.Line2D at 0x11501d748>"
      ]
     },
     "execution_count": 20,
     "metadata": {},
     "output_type": "execute_result"
    },
    {
     "data": {
      "image/png": "[encoded data removed]",
      "text/plain": [
       "<Figure size 432x288 with 1 Axes>"
      ]
     },
     "metadata": {},
     "output_type": "display_data"
    }
   ],
   "source": [
    "under_12 = wnba[wnba['Games Played'] <= 12]\n",
    "btw_13_22 = wnba[(wnba['Games Played'] > 12) & (wnba['Games Played'] <= 22)]\n",
    "over_23 = wnba[wnba['Games Played'] > 22]\n",
    "\n",
    "proportional_sampling_means = []\n",
    "\n",
    "for i in range(100):\n",
    "    sample_under_12 = under_12['PTS'].sample(1, random_state = i)\n",
    "    sample_btw_13_22 = btw_13_22['PTS'].sample(2, random_state = i)\n",
    "    sample_over_23 = over_23['PTS'].sample(7, random_state = i)\n",
    "    \n",
    "    final_sample = pd.concat([sample_under_12, sample_btw_13_22, sample_over_23])\n",
    "    proportional_sampling_means.append(final_sample.mean())\n",
    "    \n",
    "plt.scatter(range(1,101), proportional_sampling_means)\n",
    "plt.axhline(wnba['PTS'].mean())"
   ]
  },
  {
   "cell_type": "code",
   "execution_count": 21,
   "metadata": {},
   "outputs": [],
   "source": [
    "clusters = pd.Series(wnba['Team'].unique()).sample(4, random_state = 0)\n",
    "\n",
    "sample = pd.DataFrame()\n",
    "\n",
    "for cluster in clusters:\n",
    "    data_collected = wnba[wnba['Team'] == cluster]\n",
    "    sample = sample.append(data_collected)\n",
    "\n",
    "sampling_error_height = wnba['Height'].mean() - sample['Height'].mean()\n",
    "sampling_error_age = wnba['Age'].mean() - sample['Age'].mean()\n",
    "sampling_error_BMI = wnba['BMI'].mean() - sample['BMI'].mean()\n",
    "sampling_error_points = wnba['PTS'].mean() - sample['PTS'].mean()"
   ]
  },
  {
   "cell_type": "code",
   "execution_count": null,
   "metadata": {},
   "outputs": [],
   "source": []
  }
 ],
 "metadata": {
  "kernelspec": {
   "display_name": "Python (dataquest)",
   "language": "python",
   "name": "dataquest"
  },
  "language_info": {
   "codemirror_mode": {
    "name": "ipython",
    "version": 3
   },
   "file_extension": ".py",
   "mimetype": "text/x-python",
   "name": "python",
   "nbconvert_exporter": "python",
   "pygments_lexer": "ipython3",
   "version": "3.6.6"
  }
 },
 "nbformat": 4,
 "nbformat_minor": 2
}
