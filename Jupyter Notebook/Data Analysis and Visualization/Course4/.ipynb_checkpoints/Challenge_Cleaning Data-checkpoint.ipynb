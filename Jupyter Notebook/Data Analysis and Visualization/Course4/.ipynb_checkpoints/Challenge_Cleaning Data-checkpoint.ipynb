{
 "cells": [
  {
   "cell_type": "markdown",
   "metadata": {},
   "source": [
    "# Read data"
   ]
  },
  {
   "cell_type": "code",
   "execution_count": 4,
   "metadata": {},
   "outputs": [
    {
     "name": "stdout",
     "output_type": "stream",
     "text": [
      "3633\n"
     ]
    }
   ],
   "source": [
    "import pandas as pd\n",
    "\n",
    "avengers = pd.read_csv('avengers.csv')\n",
    "avengers.head(5)\n",
    "print(avengers.size)"
   ]
  },
  {
   "cell_type": "markdown",
   "metadata": {},
   "source": [
    "# Select True Avengers\n",
    "avengers born before 1960 is not True, the comic only comes out on 1960"
   ]
  },
  {
   "cell_type": "code",
   "execution_count": 6,
   "metadata": {},
   "outputs": [
    {
     "name": "stdout",
     "output_type": "stream",
     "text": [
      "                                                 URL  \\\n",
      "0      http://marvel.wikia.com/Henry_Pym_(Earth-616)   \n",
      "1  http://marvel.wikia.com/Janet_van_Dyne_(Earth-...   \n",
      "2  http://marvel.wikia.com/Anthony_Stark_(Earth-616)   \n",
      "3  http://marvel.wikia.com/Robert_Bruce_Banner_(E...   \n",
      "4   http://marvel.wikia.com/Thor_Odinson_(Earth-616)   \n",
      "\n",
      "                    Name/Alias  Appearances Current?  Gender  \\\n",
      "0    Henry Jonathan \"Hank\" Pym         1269      YES    MALE   \n",
      "1               Janet van Dyne         1165      YES  FEMALE   \n",
      "2  Anthony Edward \"Tony\" Stark         3068      YES    MALE   \n",
      "3          Robert Bruce Banner         2089      YES    MALE   \n",
      "4                 Thor Odinson         2402      YES    MALE   \n",
      "\n",
      "  Probationary Introl Full/Reserve Avengers Intro  Year  Years since joining  \\\n",
      "0                 NaN                      Sep-63  1963                   52   \n",
      "1                 NaN                      Sep-63  1963                   52   \n",
      "2                 NaN                      Sep-63  1963                   52   \n",
      "3                 NaN                      Sep-63  1963                   52   \n",
      "4                 NaN                      Sep-63  1963                   52   \n",
      "\n",
      "  Honorary                        ...                         Return1 Death2  \\\n",
      "0     Full                        ...                              NO    NaN   \n",
      "1     Full                        ...                             YES    NaN   \n",
      "2     Full                        ...                             YES    NaN   \n",
      "3     Full                        ...                             YES    NaN   \n",
      "4     Full                        ...                             YES    YES   \n",
      "\n",
      "  Return2 Death3 Return3 Death4 Return4 Death5 Return5  \\\n",
      "0     NaN    NaN     NaN    NaN     NaN    NaN     NaN   \n",
      "1     NaN    NaN     NaN    NaN     NaN    NaN     NaN   \n",
      "2     NaN    NaN     NaN    NaN     NaN    NaN     NaN   \n",
      "3     NaN    NaN     NaN    NaN     NaN    NaN     NaN   \n",
      "4      NO    NaN     NaN    NaN     NaN    NaN     NaN   \n",
      "\n",
      "                                               Notes  \n",
      "0  Merged with Ultron in Rage of Ultron Vol. 1. A...  \n",
      "1  Dies in Secret Invasion V1:I8. Actually was se...  \n",
      "2  Death: \"Later while under the influence of Imm...  \n",
      "3  Dies in Ghosts of the Future arc. However \"he ...  \n",
      "4  Dies in Fear Itself brought back because that'...  \n",
      "\n",
      "[5 rows x 21 columns]\n",
      "3339\n"
     ]
    }
   ],
   "source": [
    "true_avengers = avengers[avengers['Year'] >= 1960]\n",
    "print(true_avengers.head())\n",
    "print(true_avengers.size)"
   ]
  },
  {
   "cell_type": "markdown",
   "metadata": {},
   "source": [
    "# Number of avengers born on each year"
   ]
  },
  {
   "cell_type": "code",
   "execution_count": 9,
   "metadata": {},
   "outputs": [
    {
     "data": {
      "text/plain": [
       "<matplotlib.axes._subplots.AxesSubplot at 0x113a12208>"
      ]
     },
     "execution_count": 9,
     "metadata": {},
     "output_type": "execute_result"
    },
    {
     "data": {
      "image/png": "[encoded data removed]",
      "text/plain": [
       "<Figure size 432x288 with 1 Axes>"
      ]
     },
     "metadata": {},
     "output_type": "display_data"
    }
   ],
   "source": [
    "import matplotlib.pyplot as plt\n",
    "true_avengers['Year'].hist()"
   ]
  },
  {
   "cell_type": "markdown",
   "metadata": {},
   "source": [
    "# Number of deaths for each Avenger"
   ]
  },
  {
   "cell_type": "code",
   "execution_count": 15,
   "metadata": {},
   "outputs": [
    {
     "name": "stdout",
     "output_type": "stream",
     "text": [
      "                                                 URL  \\\n",
      "0      http://marvel.wikia.com/Henry_Pym_(Earth-616)   \n",
      "1  http://marvel.wikia.com/Janet_van_Dyne_(Earth-...   \n",
      "2  http://marvel.wikia.com/Anthony_Stark_(Earth-616)   \n",
      "3  http://marvel.wikia.com/Robert_Bruce_Banner_(E...   \n",
      "4   http://marvel.wikia.com/Thor_Odinson_(Earth-616)   \n",
      "\n",
      "                    Name/Alias  Appearances Current?  Gender  \\\n",
      "0    Henry Jonathan \"Hank\" Pym       1269.0      YES    MALE   \n",
      "1               Janet van Dyne       1165.0      YES  FEMALE   \n",
      "2  Anthony Edward \"Tony\" Stark       3068.0      YES    MALE   \n",
      "3          Robert Bruce Banner       2089.0      YES    MALE   \n",
      "4                 Thor Odinson       2402.0      YES    MALE   \n",
      "\n",
      "  Probationary Introl Full/Reserve Avengers Intro    Year  \\\n",
      "0                 NaN                      Sep-63  1963.0   \n",
      "1                 NaN                      Sep-63  1963.0   \n",
      "2                 NaN                      Sep-63  1963.0   \n",
      "3                 NaN                      Sep-63  1963.0   \n",
      "4                 NaN                      Sep-63  1963.0   \n",
      "\n",
      "   Years since joining Honorary  ...   Death2 Return2 Death3 Return3 Death4  \\\n",
      "0                 52.0     Full  ...      NaN     NaN    NaN     NaN    NaN   \n",
      "1                 52.0     Full  ...      NaN     NaN    NaN     NaN    NaN   \n",
      "2                 52.0     Full  ...      NaN     NaN    NaN     NaN    NaN   \n",
      "3                 52.0     Full  ...      NaN     NaN    NaN     NaN    NaN   \n",
      "4                 52.0     Full  ...      YES      NO    NaN     NaN    NaN   \n",
      "\n",
      "  Return4 Death5 Return5                                              Notes  \\\n",
      "0     NaN    NaN     NaN  Merged with Ultron in Rage of Ultron Vol. 1. A...   \n",
      "1     NaN    NaN     NaN  Dies in Secret Invasion V1:I8. Actually was se...   \n",
      "2     NaN    NaN     NaN  Death: \"Later while under the influence of Imm...   \n",
      "3     NaN    NaN     NaN  Dies in Ghosts of the Future arc. However \"he ...   \n",
      "4     NaN    NaN     NaN  Dies in Fear Itself brought back because that'...   \n",
      "\n",
      "  Deaths  \n",
      "0      1  \n",
      "1      1  \n",
      "2      1  \n",
      "3      1  \n",
      "4      2  \n",
      "\n",
      "[5 rows x 22 columns]\n"
     ]
    },
    {
     "name": "stderr",
     "output_type": "stream",
     "text": [
      "/Users/shiganyu/anaconda3/envs/dataquest/lib/python3.6/site-packages/pandas/core/indexing.py:543: SettingWithCopyWarning: \n",
      "A value is trying to be set on a copy of a slice from a DataFrame.\n",
      "Try using .loc[row_indexer,col_indexer] = value instead\n",
      "\n",
      "See the caveats in the documentation: http://pandas.pydata.org/pandas-docs/stable/indexing.html#indexing-view-versus-copy\n",
      "  self.obj[item] = s\n"
     ]
    }
   ],
   "source": [
    "death_fields = ['Death1', 'Death2', 'Death3', 'Death4', 'Death5']\n",
    "deaths = sum(true_avengers[c]=='YES' for c in death_fields)\n",
    "true_avengers.loc[:,'Deaths'] = deaths\n",
    "print(true_avengers.head())"
   ]
  },
  {
   "cell_type": "markdown",
   "metadata": {},
   "source": [
    "# Number of Avengers with correct year since joining"
   ]
  },
  {
   "cell_type": "code",
   "execution_count": 20,
   "metadata": {},
   "outputs": [
    {
     "name": "stdout",
     "output_type": "stream",
     "text": [
      "159\n"
     ]
    }
   ],
   "source": [
    "true_avengers.dtypes\n",
    "joined_accuracy_count = sum(true_avengers['Years since joining']== 2015 - true_avengers['Year'])\n",
    "print(joined_accuracy_count)"
   ]
  },
  {
   "cell_type": "code",
   "execution_count": null,
   "metadata": {},
   "outputs": [],
   "source": []
  }
 ],
 "metadata": {
  "kernelspec": {
   "display_name": "Python (dataquest)",
   "language": "python",
   "name": "dataquest"
  },
  "language_info": {
   "codemirror_mode": {
    "name": "ipython",
    "version": 3
   },
   "file_extension": ".py",
   "mimetype": "text/x-python",
   "name": "python",
   "nbconvert_exporter": "python",
   "pygments_lexer": "ipython3",
   "version": "3.6.6"
  }
 },
 "nbformat": 4,
 "nbformat_minor": 2
}
