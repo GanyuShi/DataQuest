{
 "cells": [
  {
   "cell_type": "code",
   "execution_count": 2,
   "metadata": {},
   "outputs": [
    {
     "name": "stdout",
     "output_type": "stream",
     "text": [
      "   RespondentID Have you seen any of the 6 films in the Star Wars franchise?  \\\n",
      "0           NaN                                           Response             \n",
      "1  3.292880e+09                                                Yes             \n",
      "2  3.292880e+09                                                 No             \n",
      "3  3.292765e+09                                                Yes             \n",
      "4  3.292763e+09                                                Yes             \n",
      "\n",
      "  Do you consider yourself to be a fan of the Star Wars film franchise?  \\\n",
      "0                                           Response                      \n",
      "1                                                Yes                      \n",
      "2                                                NaN                      \n",
      "3                                                 No                      \n",
      "4                                                Yes                      \n",
      "\n",
      "  Which of the following Star Wars films have you seen? Please select all that apply.  \\\n",
      "0           Star Wars: Episode I  The Phantom Menace                                    \n",
      "1           Star Wars: Episode I  The Phantom Menace                                    \n",
      "2                                                NaN                                    \n",
      "3           Star Wars: Episode I  The Phantom Menace                                    \n",
      "4           Star Wars: Episode I  The Phantom Menace                                    \n",
      "\n",
      "                                    Unnamed: 4  \\\n",
      "0  Star Wars: Episode II  Attack of the Clones   \n",
      "1  Star Wars: Episode II  Attack of the Clones   \n",
      "2                                          NaN   \n",
      "3  Star Wars: Episode II  Attack of the Clones   \n",
      "4  Star Wars: Episode II  Attack of the Clones   \n",
      "\n",
      "                                    Unnamed: 5  \\\n",
      "0  Star Wars: Episode III  Revenge of the Sith   \n",
      "1  Star Wars: Episode III  Revenge of the Sith   \n",
      "2                                          NaN   \n",
      "3  Star Wars: Episode III  Revenge of the Sith   \n",
      "4  Star Wars: Episode III  Revenge of the Sith   \n",
      "\n",
      "                          Unnamed: 6  \\\n",
      "0  Star Wars: Episode IV  A New Hope   \n",
      "1  Star Wars: Episode IV  A New Hope   \n",
      "2                                NaN   \n",
      "3                                NaN   \n",
      "4  Star Wars: Episode IV  A New Hope   \n",
      "\n",
      "                                     Unnamed: 7  \\\n",
      "0  Star Wars: Episode V The Empire Strikes Back   \n",
      "1  Star Wars: Episode V The Empire Strikes Back   \n",
      "2                                           NaN   \n",
      "3                                           NaN   \n",
      "4  Star Wars: Episode V The Empire Strikes Back   \n",
      "\n",
      "                                 Unnamed: 8  \\\n",
      "0  Star Wars: Episode VI Return of the Jedi   \n",
      "1  Star Wars: Episode VI Return of the Jedi   \n",
      "2                                       NaN   \n",
      "3                                       NaN   \n",
      "4  Star Wars: Episode VI Return of the Jedi   \n",
      "\n",
      "  Please rank the Star Wars films in order of preference with 1 being your favorite film in the franchise and 6 being your least favorite film.  \\\n",
      "0           Star Wars: Episode I  The Phantom Menace                                                                                              \n",
      "1                                                  3                                                                                              \n",
      "2                                                NaN                                                                                              \n",
      "3                                                  1                                                                                              \n",
      "4                                                  5                                                                                              \n",
      "\n",
      "            ...                  Unnamed: 28  \\\n",
      "0           ...                         Yoda   \n",
      "1           ...               Very favorably   \n",
      "2           ...                          NaN   \n",
      "3           ...             Unfamiliar (N/A)   \n",
      "4           ...               Very favorably   \n",
      "\n",
      "        Which character shot first?  \\\n",
      "0                          Response   \n",
      "1  I don't understand this question   \n",
      "2                               NaN   \n",
      "3  I don't understand this question   \n",
      "4  I don't understand this question   \n",
      "\n",
      "  Are you familiar with the Expanded Universe?  \\\n",
      "0                                     Response   \n",
      "1                                          Yes   \n",
      "2                                          NaN   \n",
      "3                                           No   \n",
      "4                                           No   \n",
      "\n",
      "  Do you consider yourself to be a fan of the Expanded Universe?ï¿½ï¿½  \\\n",
      "0                                           Response                     \n",
      "1                                                 No                     \n",
      "2                                                NaN                     \n",
      "3                                                NaN                     \n",
      "4                                                NaN                     \n",
      "\n",
      "  Do you consider yourself to be a fan of the Star Trek franchise?    Gender  \\\n",
      "0                                           Response                Response   \n",
      "1                                                 No                    Male   \n",
      "2                                                Yes                    Male   \n",
      "3                                                 No                    Male   \n",
      "4                                                Yes                    Male   \n",
      "\n",
      "        Age     Household Income                         Education  \\\n",
      "0  Response             Response                          Response   \n",
      "1     18-29                  NaN                High school degree   \n",
      "2     18-29         $0 - $24,999                   Bachelor degree   \n",
      "3     18-29         $0 - $24,999                High school degree   \n",
      "4     18-29  $100,000 - $149,999  Some college or Associate degree   \n",
      "\n",
      "  Location (Census Region)  \n",
      "0                 Response  \n",
      "1           South Atlantic  \n",
      "2       West South Central  \n",
      "3       West North Central  \n",
      "4       West North Central  \n",
      "\n",
      "[5 rows x 38 columns]\n",
      "RespondentID                                                                                                                                     float64\n",
      "Have you seen any of the 6 films in the Star Wars franchise?                                                                                      object\n",
      "Do you consider yourself to be a fan of the Star Wars film franchise?                                                                             object\n",
      "Which of the following Star Wars films have you seen? Please select all that apply.                                                               object\n",
      "Unnamed: 4                                                                                                                                        object\n",
      "Unnamed: 5                                                                                                                                        object\n",
      "Unnamed: 6                                                                                                                                        object\n",
      "Unnamed: 7                                                                                                                                        object\n",
      "Unnamed: 8                                                                                                                                        object\n",
      "Please rank the Star Wars films in order of preference with 1 being your favorite film in the franchise and 6 being your least favorite film.     object\n",
      "Unnamed: 10                                                                                                                                       object\n",
      "Unnamed: 11                                                                                                                                       object\n",
      "Unnamed: 12                                                                                                                                       object\n",
      "Unnamed: 13                                                                                                                                       object\n",
      "Unnamed: 14                                                                                                                                       object\n",
      "Please state whether you view the following characters favorably, unfavorably, or are unfamiliar with him/her.                                    object\n",
      "Unnamed: 16                                                                                                                                       object\n",
      "Unnamed: 17                                                                                                                                       object\n",
      "Unnamed: 18                                                                                                                                       object\n",
      "Unnamed: 19                                                                                                                                       object\n",
      "Unnamed: 20                                                                                                                                       object\n",
      "Unnamed: 21                                                                                                                                       object\n",
      "Unnamed: 22                                                                                                                                       object\n",
      "Unnamed: 23                                                                                                                                       object\n",
      "Unnamed: 24                                                                                                                                       object\n",
      "Unnamed: 25                                                                                                                                       object\n",
      "Unnamed: 26                                                                                                                                       object\n",
      "Unnamed: 27                                                                                                                                       object\n",
      "Unnamed: 28                                                                                                                                       object\n",
      "Which character shot first?                                                                                                                       object\n",
      "Are you familiar with the Expanded Universe?                                                                                                      object\n",
      "Do you consider yourself to be a fan of the Expanded Universe?ï¿½ï¿½                                                                              object\n",
      "Do you consider yourself to be a fan of the Star Trek franchise?                                                                                  object\n",
      "Gender                                                                                                                                            object\n",
      "Age                                                                                                                                               object\n",
      "Household Income                                                                                                                                  object\n",
      "Education                                                                                                                                         object\n",
      "Location (Census Region)                                                                                                                          object\n",
      "dtype: object\n"
     ]
    }
   ],
   "source": [
    "import pandas as pd\n",
    "import matplotlib.pyplot as plt\n",
    "\n",
    "star_wars = pd.read_csv('star_wars.csv', encoding=\"ISO-8859-1\")\n",
    "print(star_wars.head(5))\n",
    "print(star_wars.dtypes)"
   ]
  },
  {
   "cell_type": "markdown",
   "metadata": {},
   "source": [
    "# Remove rows with empty respondent id"
   ]
  },
  {
   "cell_type": "code",
   "execution_count": 3,
   "metadata": {},
   "outputs": [
    {
     "data": {
      "text/plain": [
       "array([             nan,   3.29288000e+09,   3.29287954e+09, ...,\n",
       "         3.28837529e+09,   3.28837307e+09,   3.28837292e+09])"
      ]
     },
     "execution_count": 3,
     "metadata": {},
     "output_type": "execute_result"
    }
   ],
   "source": [
    "star_wars['RespondentID'].unique()"
   ]
  },
  {
   "cell_type": "code",
   "execution_count": 4,
   "metadata": {},
   "outputs": [
    {
     "name": "stdout",
     "output_type": "stream",
     "text": [
      "[  3.29288000e+09   3.29287954e+09   3.29276527e+09 ...,   3.28837529e+09\n",
      "   3.28837307e+09   3.28837292e+09]\n"
     ]
    }
   ],
   "source": [
    "star_wars = star_wars[star_wars['RespondentID'].notnull()]\n",
    "print(star_wars['RespondentID'].unique())"
   ]
  },
  {
   "cell_type": "markdown",
   "metadata": {},
   "source": [
    "# Cleaning and Mapping Yes/No Columns"
   ]
  },
  {
   "cell_type": "code",
   "execution_count": 5,
   "metadata": {},
   "outputs": [],
   "source": [
    "cols = ['Have you seen any of the 6 films in the Star Wars franchise?',\n",
    "    'Do you consider yourself to be a fan of the Star Wars film franchise?']\n",
    "yes_no = {'Yes': True, 'No': False}\n",
    "for c in cols:\n",
    "    star_wars[c] = star_wars[c].map(yes_no)\n",
    "    "
   ]
  },
  {
   "cell_type": "code",
   "execution_count": 6,
   "metadata": {},
   "outputs": [
    {
     "name": "stdout",
     "output_type": "stream",
     "text": [
      "[ True False]\n"
     ]
    }
   ],
   "source": [
    "print(star_wars[cols[0]].unique())"
   ]
  },
  {
   "cell_type": "markdown",
   "metadata": {},
   "source": [
    "# Cleaning and Mapping Checkbox Columns"
   ]
  },
  {
   "cell_type": "code",
   "execution_count": 7,
   "metadata": {},
   "outputs": [
    {
     "name": "stdout",
     "output_type": "stream",
     "text": [
      "['Star Wars: Episode I  The Phantom Menace' nan]\n",
      "[ True False]\n",
      "['Star Wars: Episode II  Attack of the Clones' nan]\n",
      "[ True False]\n",
      "['Star Wars: Episode III  Revenge of the Sith' nan]\n",
      "[ True False]\n",
      "['Star Wars: Episode IV  A New Hope' nan]\n",
      "[ True False]\n",
      "['Star Wars: Episode V The Empire Strikes Back' nan]\n",
      "[ True False]\n",
      "['Star Wars: Episode VI Return of the Jedi' nan]\n",
      "[ True False]\n"
     ]
    }
   ],
   "source": [
    "# Series.map(dict)\n",
    "\n",
    "import numpy as np\n",
    "checkbox_fields = ['Which of the following Star Wars films have you seen? Please select all that apply.',\n",
    "    'Unnamed: 4',\n",
    "    'Unnamed: 5',\n",
    "    'Unnamed: 6',\n",
    "    'Unnamed: 7',\n",
    "    'Unnamed: 8']\n",
    "names = ['Star Wars: Episode I  The Phantom Menace',\n",
    "    'Star Wars: Episode II  Attack of the Clones',\n",
    "    'Star Wars: Episode III  Revenge of the Sith',\n",
    "    'Star Wars: Episode IV  A New Hope',\n",
    "    'Star Wars: Episode V The Empire Strikes Back',\n",
    "    'Star Wars: Episode VI Return of the Jedi']\n",
    "mappings = []\n",
    "for n in names:\n",
    "    mappings.append({n: True, np.nan: False})\n",
    "\n",
    "for i, c in enumerate(checkbox_fields):\n",
    "    print(star_wars[c].unique())\n",
    "    star_wars[c] = star_wars[c].map(mappings[i])\n",
    "    print(star_wars[c].unique())\n"
   ]
  },
  {
   "cell_type": "code",
   "execution_count": 8,
   "metadata": {},
   "outputs": [
    {
     "name": "stdout",
     "output_type": "stream",
     "text": [
      "{'Which of the following Star Wars films have you seen? Please select all that apply.': 'seen_1', 'Unnamed: 4': 'seen_2', 'Unnamed: 5': 'seen_3', 'Unnamed: 6': 'seen_4', 'Unnamed: 7': 'seen_5', 'Unnamed: 8': 'seen_6'}\n",
      "Index(['RespondentID',\n",
      "       'Have you seen any of the 6 films in the Star Wars franchise?',\n",
      "       'Do you consider yourself to be a fan of the Star Wars film franchise?',\n",
      "       'Which of the following Star Wars films have you seen? Please select all that apply.',\n",
      "       'Unnamed: 4', 'Unnamed: 5', 'Unnamed: 6', 'Unnamed: 7', 'Unnamed: 8',\n",
      "       'Please rank the Star Wars films in order of preference with 1 being your favorite film in the franchise and 6 being your least favorite film.',\n",
      "       'Unnamed: 10', 'Unnamed: 11', 'Unnamed: 12', 'Unnamed: 13',\n",
      "       'Unnamed: 14',\n",
      "       'Please state whether you view the following characters favorably, unfavorably, or are unfamiliar with him/her.',\n",
      "       'Unnamed: 16', 'Unnamed: 17', 'Unnamed: 18', 'Unnamed: 19',\n",
      "       'Unnamed: 20', 'Unnamed: 21', 'Unnamed: 22', 'Unnamed: 23',\n",
      "       'Unnamed: 24', 'Unnamed: 25', 'Unnamed: 26', 'Unnamed: 27',\n",
      "       'Unnamed: 28', 'Which character shot first?',\n",
      "       'Are you familiar with the Expanded Universe?',\n",
      "       'Do you consider yourself to be a fan of the Expanded Universe?ï¿½ï¿½',\n",
      "       'Do you consider yourself to be a fan of the Star Trek franchise?',\n",
      "       'Gender', 'Age', 'Household Income', 'Education',\n",
      "       'Location (Census Region)'],\n",
      "      dtype='object')\n",
      "Index(['RespondentID',\n",
      "       'Have you seen any of the 6 films in the Star Wars franchise?',\n",
      "       'Do you consider yourself to be a fan of the Star Wars film franchise?',\n",
      "       'seen_1', 'seen_2', 'seen_3', 'seen_4', 'seen_5', 'seen_6',\n",
      "       'Please rank the Star Wars films in order of preference with 1 being your favorite film in the franchise and 6 being your least favorite film.',\n",
      "       'Unnamed: 10', 'Unnamed: 11', 'Unnamed: 12', 'Unnamed: 13',\n",
      "       'Unnamed: 14',\n",
      "       'Please state whether you view the following characters favorably, unfavorably, or are unfamiliar with him/her.',\n",
      "       'Unnamed: 16', 'Unnamed: 17', 'Unnamed: 18', 'Unnamed: 19',\n",
      "       'Unnamed: 20', 'Unnamed: 21', 'Unnamed: 22', 'Unnamed: 23',\n",
      "       'Unnamed: 24', 'Unnamed: 25', 'Unnamed: 26', 'Unnamed: 27',\n",
      "       'Unnamed: 28', 'Which character shot first?',\n",
      "       'Are you familiar with the Expanded Universe?',\n",
      "       'Do you consider yourself to be a fan of the Expanded Universe?ï¿½ï¿½',\n",
      "       'Do you consider yourself to be a fan of the Star Trek franchise?',\n",
      "       'Gender', 'Age', 'Household Income', 'Education',\n",
      "       'Location (Census Region)'],\n",
      "      dtype='object')\n"
     ]
    }
   ],
   "source": [
    "# pandas.DataFrame.rename(dict) \n",
    "rename_mapping = {}\n",
    "for i, n in enumerate(checkbox_fields):\n",
    "    rename_mapping[n] = 'seen_%d'% (i+1)\n",
    "print(rename_mapping)\n",
    "print(star_wars.columns)\n",
    "star_wars = star_wars.rename(columns=rename_mapping)\n",
    "print(star_wars.columns)\n",
    "\n",
    "# print(star_wars.head())"
   ]
  },
  {
   "cell_type": "code",
   "execution_count": 9,
   "metadata": {},
   "outputs": [
    {
     "name": "stdout",
     "output_type": "stream",
     "text": [
      "Index(['RespondentID',\n",
      "       'Have you seen any of the 6 films in the Star Wars franchise?',\n",
      "       'Do you consider yourself to be a fan of the Star Wars film franchise?',\n",
      "       'seen_1', 'seen_2', 'seen_3', 'seen_4', 'seen_5', 'seen_6',\n",
      "       'Please rank the Star Wars films in order of preference with 1 being your favorite film in the franchise and 6 being your least favorite film.',\n",
      "       'Unnamed: 10', 'Unnamed: 11', 'Unnamed: 12', 'Unnamed: 13',\n",
      "       'Unnamed: 14',\n",
      "       'Please state whether you view the following characters favorably, unfavorably, or are unfamiliar with him/her.',\n",
      "       'Unnamed: 16', 'Unnamed: 17', 'Unnamed: 18', 'Unnamed: 19',\n",
      "       'Unnamed: 20', 'Unnamed: 21', 'Unnamed: 22', 'Unnamed: 23',\n",
      "       'Unnamed: 24', 'Unnamed: 25', 'Unnamed: 26', 'Unnamed: 27',\n",
      "       'Unnamed: 28', 'Which character shot first?',\n",
      "       'Are you familiar with the Expanded Universe?',\n",
      "       'Do you consider yourself to be a fan of the Expanded Universe?ï¿½ï¿½',\n",
      "       'Do you consider yourself to be a fan of the Star Trek franchise?',\n",
      "       'Gender', 'Age', 'Household Income', 'Education',\n",
      "       'Location (Census Region)'],\n",
      "      dtype='object')\n"
     ]
    }
   ],
   "source": [
    "print(star_wars.columns)"
   ]
  },
  {
   "cell_type": "code",
   "execution_count": 10,
   "metadata": {},
   "outputs": [
    {
     "name": "stdout",
     "output_type": "stream",
     "text": [
      "True     673\n",
      "False    513\n",
      "Name: seen_1, dtype: int64\n"
     ]
    }
   ],
   "source": [
    "print(star_wars['seen_1'].value_counts())"
   ]
  },
  {
   "cell_type": "markdown",
   "metadata": {},
   "source": [
    "# Cleaning the Ranking Columns"
   ]
  },
  {
   "cell_type": "code",
   "execution_count": 11,
   "metadata": {},
   "outputs": [],
   "source": [
    "# pandas.DataFrame.astype()\n",
    "# star_wars.columns[9:15]\n",
    "star_wars[star_wars.columns[9:15]] = star_wars[star_wars.columns[9:15]].astype(float)"
   ]
  },
  {
   "cell_type": "code",
   "execution_count": 12,
   "metadata": {},
   "outputs": [
    {
     "name": "stdout",
     "output_type": "stream",
     "text": [
      "{'Please rank the Star Wars films in order of preference with 1 being your favorite film in the franchise and 6 being your least favorite film.': 'ranking_1', 'Unnamed: 10': 'ranking_2', 'Unnamed: 11': 'ranking_3', 'Unnamed: 12': 'ranking_4', 'Unnamed: 13': 'ranking_5', 'Unnamed: 14': 'ranking_6'}\n"
     ]
    }
   ],
   "source": [
    "name_mapping = {}\n",
    "for i, c in enumerate(star_wars.columns[9:15]):\n",
    "    name_mapping[c] = 'ranking_%d' % (i+1)\n",
    "print(name_mapping)\n",
    "star_wars = star_wars.rename(columns=name_mapping)"
   ]
  },
  {
   "cell_type": "code",
   "execution_count": 13,
   "metadata": {},
   "outputs": [
    {
     "name": "stdout",
     "output_type": "stream",
     "text": [
      "Index(['RespondentID',\n",
      "       'Have you seen any of the 6 films in the Star Wars franchise?',\n",
      "       'Do you consider yourself to be a fan of the Star Wars film franchise?',\n",
      "       'seen_1', 'seen_2', 'seen_3', 'seen_4', 'seen_5', 'seen_6', 'ranking_1',\n",
      "       'ranking_2', 'ranking_3', 'ranking_4', 'ranking_5', 'ranking_6',\n",
      "       'Please state whether you view the following characters favorably, unfavorably, or are unfamiliar with him/her.',\n",
      "       'Unnamed: 16', 'Unnamed: 17', 'Unnamed: 18', 'Unnamed: 19',\n",
      "       'Unnamed: 20', 'Unnamed: 21', 'Unnamed: 22', 'Unnamed: 23',\n",
      "       'Unnamed: 24', 'Unnamed: 25', 'Unnamed: 26', 'Unnamed: 27',\n",
      "       'Unnamed: 28', 'Which character shot first?',\n",
      "       'Are you familiar with the Expanded Universe?',\n",
      "       'Do you consider yourself to be a fan of the Expanded Universe?ï¿½ï¿½',\n",
      "       'Do you consider yourself to be a fan of the Star Trek franchise?',\n",
      "       'Gender', 'Age', 'Household Income', 'Education',\n",
      "       'Location (Census Region)'],\n",
      "      dtype='object')\n"
     ]
    }
   ],
   "source": [
    "print(star_wars.columns)"
   ]
  },
  {
   "cell_type": "markdown",
   "metadata": {},
   "source": [
    "# Finding the Highest-Ranked Movie"
   ]
  },
  {
   "cell_type": "code",
   "execution_count": 14,
   "metadata": {},
   "outputs": [
    {
     "name": "stdout",
     "output_type": "stream",
     "text": [
      "4.0    237\n",
      "6.0    168\n",
      "3.0    130\n",
      "1.0    129\n",
      "5.0    100\n",
      "2.0     71\n",
      "Name: ranking_1, dtype: int64\n",
      "5.0    300\n",
      "4.0    183\n",
      "2.0    116\n",
      "3.0    103\n",
      "6.0    102\n",
      "1.0     32\n",
      "Name: ranking_2, dtype: int64\n",
      "6.0    217\n",
      "5.0    203\n",
      "4.0    182\n",
      "3.0    150\n",
      "2.0     47\n",
      "1.0     36\n",
      "Name: ranking_3, dtype: int64\n",
      "1.0    204\n",
      "6.0    161\n",
      "2.0    135\n",
      "4.0    130\n",
      "3.0    127\n",
      "5.0     79\n",
      "Name: ranking_4, dtype: int64\n",
      "1.0    289\n",
      "2.0    235\n",
      "5.0    118\n",
      "3.0    106\n",
      "4.0     47\n",
      "6.0     41\n",
      "Name: ranking_5, dtype: int64\n",
      "2.0    232\n",
      "3.0    220\n",
      "1.0    146\n",
      "6.0    145\n",
      "4.0     57\n",
      "5.0     36\n",
      "Name: ranking_6, dtype: int64\n"
     ]
    },
    {
     "data": {
      "image/png": "[encoded data removed]",
      "text/plain": [
       "<Figure size 432x288 with 1 Axes>"
      ]
     },
     "metadata": {},
     "output_type": "display_data"
    }
   ],
   "source": [
    "rank_cols = star_wars.columns[9:15]\n",
    "rank_mean = star_wars[rank_cols].mean()\n",
    "rank_mean.plot.bar()\n",
    "for c in rank_cols:\n",
    "    print(star_wars[c].value_counts())"
   ]
  },
  {
   "cell_type": "markdown",
   "metadata": {},
   "source": [
    "# Finding the Most Viewed Movie"
   ]
  },
  {
   "cell_type": "code",
   "execution_count": 15,
   "metadata": {},
   "outputs": [
    {
     "data": {
      "text/plain": [
       "<matplotlib.axes._subplots.AxesSubplot at 0x111c656a0>"
      ]
     },
     "execution_count": 15,
     "metadata": {},
     "output_type": "execute_result"
    },
    {
     "data": {
      "image/png": "[encoded data removed]",
      "text/plain": [
       "<Figure size 432x288 with 1 Axes>"
      ]
     },
     "metadata": {},
     "output_type": "display_data"
    }
   ],
   "source": [
    "seen_cols = star_wars.columns[3:9]\n",
    "seen_sum = star_wars[seen_cols].sum()\n",
    "seen_sum.plot.bar()"
   ]
  },
  {
   "cell_type": "markdown",
   "metadata": {},
   "source": [
    "# Exploring the Data by Binary Segments"
   ]
  },
  {
   "cell_type": "code",
   "execution_count": 16,
   "metadata": {},
   "outputs": [
    {
     "data": {
      "text/plain": [
       "True     552\n",
       "False    284\n",
       "Name: Do you consider yourself to be a fan of the Star Wars film franchise?, dtype: int64"
      ]
     },
     "execution_count": 16,
     "metadata": {},
     "output_type": "execute_result"
    }
   ],
   "source": [
    "col = 'Do you consider yourself to be a fan of the Star Wars film franchise?'\n",
    "star_wars[col].value_counts()"
   ]
  },
  {
   "cell_type": "code",
   "execution_count": 17,
   "metadata": {},
   "outputs": [
    {
     "name": "stdout",
     "output_type": "stream",
     "text": [
      "seen_1    500\n",
      "seen_2    463\n",
      "seen_3    450\n",
      "seen_4    483\n",
      "seen_5    538\n",
      "seen_6    537\n",
      "dtype: int64\n",
      "seen_1    173\n",
      "seen_2    108\n",
      "seen_3    100\n",
      "seen_4    124\n",
      "seen_5    220\n",
      "seen_6    201\n",
      "dtype: int64\n"
     ]
    },
    {
     "data": {
      "image/png": "[encoded data removed]",
      "text/plain": [
       "<Figure size 1080x720 with 2 Axes>"
      ]
     },
     "metadata": {},
     "output_type": "display_data"
    }
   ],
   "source": [
    "fig = plt.figure(figsize=(15, 10))\n",
    "ax1 = fig.add_subplot(1, 2, 1)\n",
    "ax2 = fig.add_subplot(1, 2, 2)\n",
    "\n",
    "star_wars_fan = star_wars[star_wars[col] == True]\n",
    "star_wars_no_fan = star_wars[star_wars[col] == False]\n",
    "\n",
    "seen_cols = star_wars_fan.columns[3:9]\n",
    "\n",
    "seen_sum_fan = star_wars_fan[seen_cols].sum()\n",
    "print(seen_sum_fan)\n",
    "seen_sum_no_fan = star_wars_no_fan[seen_cols].sum()\n",
    "print(seen_sum_no_fan)\n",
    "\n",
    "ax1.plot(seen_sum_fan)\n",
    "ax2.plot(seen_sum_no_fan)\n",
    "\n",
    "plt.show()"
   ]
  },
  {
   "cell_type": "code",
   "execution_count": 18,
   "metadata": {},
   "outputs": [
    {
     "name": "stdout",
     "output_type": "stream",
     "text": [
      "seen_1    500\n",
      "seen_2    463\n",
      "seen_3    450\n",
      "seen_4    483\n",
      "seen_5    538\n",
      "seen_6    537\n",
      "dtype: int64\n",
      "seen_1    173\n",
      "seen_2    108\n",
      "seen_3    100\n",
      "seen_4    124\n",
      "seen_5    220\n",
      "seen_6    201\n",
      "dtype: int64\n"
     ]
    },
    {
     "data": {
      "image/png": "[encoded data removed]",
      "text/plain": [
       "<Figure size 1080x720 with 2 Axes>"
      ]
     },
     "metadata": {},
     "output_type": "display_data"
    }
   ],
   "source": [
    "fig = plt.figure(figsize=(15, 10))\n",
    "ax1 = fig.add_subplot(1, 2, 1)\n",
    "ax2 = fig.add_subplot(1, 2, 2)\n",
    "\n",
    "star_wars_fan = star_wars[star_wars[col] == True]\n",
    "star_wars_no_fan = star_wars[star_wars[col] == False]\n",
    "\n",
    "seen_cols = star_wars_fan.columns[3:9]\n",
    "\n",
    "seen_sum_fan = star_wars_fan[seen_cols].sum()\n",
    "print(seen_sum_fan)\n",
    "seen_sum_no_fan = star_wars_no_fan[seen_cols].sum()\n",
    "print(seen_sum_no_fan)\n",
    "\n",
    "ax1.bar(x=seen_sum_fan.index, height=seen_sum_fan.values, width=0.5)\n",
    "ax2.bar(x=seen_sum_no_fan.index, height=seen_sum_no_fan.values, width=0.5)\n",
    "ax1.set_ylim(0, 600)\n",
    "ax2.set_ylim(0, 600)\n",
    "plt.show()"
   ]
  },
  {
   "cell_type": "code",
   "execution_count": 21,
   "metadata": {},
   "outputs": [
    {
     "name": "stdout",
     "output_type": "stream",
     "text": [
      "seen_1    500\n",
      "seen_2    463\n",
      "seen_3    450\n",
      "seen_4    483\n",
      "seen_5    538\n",
      "seen_6    537\n",
      "dtype: int64\n",
      "seen_1    173\n",
      "seen_2    108\n",
      "seen_3    100\n",
      "seen_4    124\n",
      "seen_5    220\n",
      "seen_6    201\n",
      "dtype: int64\n"
     ]
    },
    {
     "data": {
      "image/png": "[encoded data removed]",
      "text/plain": [
       "<Figure size 1080x720 with 2 Axes>"
      ]
     },
     "metadata": {},
     "output_type": "display_data"
    }
   ],
   "source": [
    "fig = plt.figure(figsize=(15, 10))\n",
    "\n",
    "star_wars_fan = star_wars[star_wars[col] == True]\n",
    "star_wars_no_fan = star_wars[star_wars[col] == False]\n",
    "\n",
    "seen_cols = star_wars_fan.columns[3:9]\n",
    "\n",
    "seen_sum_fan = star_wars_fan[seen_cols].sum()\n",
    "print(seen_sum_fan)\n",
    "seen_sum_no_fan = star_wars_no_fan[seen_cols].sum()\n",
    "print(seen_sum_no_fan)\n",
    "\n",
    "ax1 = fig.add_subplot(1, 2, 1)\n",
    "seen_sum_fan.plot.bar()\n",
    "ax1.set_ylim(0, 600)\n",
    "ax2 = fig.add_subplot(1, 2, 2)\n",
    "seen_sum_no_fan.plot.bar()\n",
    "ax2.set_ylim(0, 600)\n",
    "plt.show()"
   ]
  },
  {
   "cell_type": "code",
   "execution_count": null,
   "metadata": {},
   "outputs": [],
   "source": []
  }
 ],
 "metadata": {
  "kernelspec": {
   "display_name": "Python (dataquest)",
   "language": "python",
   "name": "dataquest"
  },
  "language_info": {
   "codemirror_mode": {
    "name": "ipython",
    "version": 3
   },
   "file_extension": ".py",
   "mimetype": "text/x-python",
   "name": "python",
   "nbconvert_exporter": "python",
   "pygments_lexer": "ipython3",
   "version": "3.6.6"
  }
 },
 "nbformat": 4,
 "nbformat_minor": 2
}
