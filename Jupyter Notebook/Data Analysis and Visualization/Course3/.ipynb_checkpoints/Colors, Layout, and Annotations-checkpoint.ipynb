{
 "cells": [
  {
   "cell_type": "code",
   "execution_count": 1,
   "metadata": {},
   "outputs": [],
   "source": [
    "# color blind friendly: http://tableaufriction.blogspot.com/2012/11/finally-you-can-use-tableau-data-colors.html\n",
    "# select color blind 10\n",
    "\n",
    "# c = (R, G, B) : value between 0-1\n",
    "import pandas as pd\n",
    "import matplotlib.pyplot as plt\n",
    "\n",
    "women_degrees = pd.read_csv('percent-bachelors-degrees-women-usa.csv')\n",
    "major_cats = ['Biology', 'Computer Science', 'Engineering', 'Math and Statistics']\n",
    "\n",
    "fig = plt.figure(figsize=(12, 12))\n",
    "cb_dark_blue = (0/255,107/255,164/255)\n",
    "cb_orange = (255/255, 128/255, 14/255)\n",
    "for sp in range(0,4):\n",
    "    ax = fig.add_subplot(2,2,sp+1)\n",
    "    ax.plot(women_degrees['Year'], women_degrees[major_cats[sp]], c='blue', label='Women')\n",
    "    ax.plot(women_degrees['Year'], 100-women_degrees[major_cats[sp]], c='green', label='Men')\n",
    "    for key,spine in ax.spines.items():\n",
    "        spine.set_visible(False)\n",
    "    ax.set_xlim(1968, 2011)\n",
    "    ax.set_ylim(0,100)\n",
    "    ax.set_title(major_cats[sp])\n",
    "    ax.tick_params(bottom=\"off\", top=\"off\", left=\"off\", right=\"off\")"
   ]
  },
  {
   "cell_type": "code",
   "execution_count": null,
   "metadata": {},
   "outputs": [],
   "source": []
  }
 ],
 "metadata": {
  "kernelspec": {
   "display_name": "Python 3",
   "language": "python",
   "name": "python3"
  },
  "language_info": {
   "codemirror_mode": {
    "name": "ipython",
    "version": 3
   },
   "file_extension": ".py",
   "mimetype": "text/x-python",
   "name": "python",
   "nbconvert_exporter": "python",
   "pygments_lexer": "ipython3",
   "version": "3.6.4"
  }
 },
 "nbformat": 4,
 "nbformat_minor": 2
}
