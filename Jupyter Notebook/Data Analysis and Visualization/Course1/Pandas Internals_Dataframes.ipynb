{
 "cells": [
  {
   "cell_type": "code",
   "execution_count": 4,
   "metadata": {},
   "outputs": [
    {
     "name": "stdout",
     "output_type": "stream",
     "text": [
      "                             FILM  RottenTomatoes  RottenTomatoes_User  \\\n",
      "0  Avengers: Age of Ultron (2015)              74                   86   \n",
      "1               Cinderella (2015)              85                   80   \n",
      "\n",
      "   Metacritic  Metacritic_User  IMDB  Fandango_Stars  Fandango_Ratingvalue  \\\n",
      "0          66              7.1   7.8             5.0                   4.5   \n",
      "1          67              7.5   7.1             5.0                   4.5   \n",
      "\n",
      "   RT_norm  RT_user_norm         ...           IMDB_norm  RT_norm_round  \\\n",
      "0     3.70           4.3         ...                3.90            3.5   \n",
      "1     4.25           4.0         ...                3.55            4.5   \n",
      "\n",
      "   RT_user_norm_round  Metacritic_norm_round  Metacritic_user_norm_round  \\\n",
      "0                 4.5                    3.5                         3.5   \n",
      "1                 4.0                    3.5                         4.0   \n",
      "\n",
      "   IMDB_norm_round  Metacritic_user_vote_count  IMDB_user_vote_count  \\\n",
      "0              4.0                        1330                271107   \n",
      "1              3.5                         249                 65709   \n",
      "\n",
      "   Fandango_votes  Fandango_Difference  \n",
      "0           14846                  0.5  \n",
      "1           12640                  0.5  \n",
      "\n",
      "[2 rows x 22 columns]\n",
      "RangeIndex(start=0, stop=146, step=1)\n"
     ]
    }
   ],
   "source": [
    "# DataFrame.index\n",
    "\n",
    "import pandas as pd\n",
    "fandango = pd.read_csv('fandango_score_comparison.csv')\n",
    "print(fandango.head(2))\n",
    "print(fandango.index)"
   ]
  },
  {
   "cell_type": "code",
   "execution_count": 5,
   "metadata": {},
   "outputs": [],
   "source": [
    "first_last = fandango.iloc[[0, -1]]"
   ]
  },
  {
   "cell_type": "code",
   "execution_count": 6,
   "metadata": {},
   "outputs": [
    {
     "name": "stdout",
     "output_type": "stream",
     "text": [
      "Index(['Avengers: Age of Ultron (2015)', 'Cinderella (2015)', 'Ant-Man (2015)',\n",
      "       'Do You Believe? (2015)', 'Hot Tub Time Machine 2 (2015)',\n",
      "       'The Water Diviner (2015)', 'Irrational Man (2015)', 'Top Five (2014)',\n",
      "       'Shaun the Sheep Movie (2015)', 'Love & Mercy (2015)',\n",
      "       ...\n",
      "       'The Woman In Black 2 Angel of Death (2015)', 'Danny Collins (2015)',\n",
      "       'Spare Parts (2015)', 'Serena (2015)', 'Inside Out (2015)',\n",
      "       'Mr. Holmes (2015)', ''71 (2015)', 'Two Days, One Night (2014)',\n",
      "       'Gett: The Trial of Viviane Amsalem (2015)',\n",
      "       'Kumiko, The Treasure Hunter (2015)'],\n",
      "      dtype='object', name='FILM', length=146)\n"
     ]
    }
   ],
   "source": [
    "# DataFrame.set_index(inplace=False, drop=True) default\n",
    "fandango_films = fandango.set_index(fandango['FILM'], drop=False)\n",
    "print(fandango_films.index)"
   ]
  },
  {
   "cell_type": "code",
   "execution_count": 7,
   "metadata": {},
   "outputs": [
    {
     "name": "stdout",
     "output_type": "stream",
     "text": [
      "Index(['FILM', 'RottenTomatoes', 'RottenTomatoes_User', 'Metacritic',\n",
      "       'Metacritic_User', 'IMDB', 'Fandango_Stars', 'Fandango_Ratingvalue',\n",
      "       'RT_norm', 'RT_user_norm', 'Metacritic_norm', 'Metacritic_user_nom',\n",
      "       'IMDB_norm', 'RT_norm_round', 'RT_user_norm_round',\n",
      "       'Metacritic_norm_round', 'Metacritic_user_norm_round',\n",
      "       'IMDB_norm_round', 'Metacritic_user_vote_count', 'IMDB_user_vote_count',\n",
      "       'Fandango_votes', 'Fandango_Difference'],\n",
      "      dtype='object')\n"
     ]
    }
   ],
   "source": [
    "print(fandango_films.columns)"
   ]
  },
  {
   "cell_type": "code",
   "execution_count": 8,
   "metadata": {},
   "outputs": [
    {
     "name": "stdout",
     "output_type": "stream",
     "text": [
      "                                                                                FILM  \\\n",
      "FILM                                                                                   \n",
      "The Lazarus Effect (2015)                                  The Lazarus Effect (2015)   \n",
      "Gett: The Trial of Viviane Amsalem (2015)  Gett: The Trial of Viviane Amsalem (2015)   \n",
      "Mr. Holmes (2015)                                                  Mr. Holmes (2015)   \n",
      "\n",
      "                                           RottenTomatoes  \\\n",
      "FILM                                                        \n",
      "The Lazarus Effect (2015)                              14   \n",
      "Gett: The Trial of Viviane Amsalem (2015)             100   \n",
      "Mr. Holmes (2015)                                      87   \n",
      "\n",
      "                                           RottenTomatoes_User  Metacritic  \\\n",
      "FILM                                                                         \n",
      "The Lazarus Effect (2015)                                   23          31   \n",
      "Gett: The Trial of Viviane Amsalem (2015)                   81          90   \n",
      "Mr. Holmes (2015)                                           78          67   \n",
      "\n",
      "                                           Metacritic_User  IMDB  \\\n",
      "FILM                                                               \n",
      "The Lazarus Effect (2015)                              4.9   5.2   \n",
      "Gett: The Trial of Viviane Amsalem (2015)              7.3   7.8   \n",
      "Mr. Holmes (2015)                                      7.9   7.4   \n",
      "\n",
      "                                           Fandango_Stars  \\\n",
      "FILM                                                        \n",
      "The Lazarus Effect (2015)                             3.0   \n",
      "Gett: The Trial of Viviane Amsalem (2015)             3.5   \n",
      "Mr. Holmes (2015)                                     4.0   \n",
      "\n",
      "                                           Fandango_Ratingvalue  RT_norm  \\\n",
      "FILM                                                                       \n",
      "The Lazarus Effect (2015)                                   3.0     0.70   \n",
      "Gett: The Trial of Viviane Amsalem (2015)                   3.5     5.00   \n",
      "Mr. Holmes (2015)                                           4.0     4.35   \n",
      "\n",
      "                                           RT_user_norm         ...           \\\n",
      "FILM                                                            ...            \n",
      "The Lazarus Effect (2015)                          1.15         ...            \n",
      "Gett: The Trial of Viviane Amsalem (2015)          4.05         ...            \n",
      "Mr. Holmes (2015)                                  3.90         ...            \n",
      "\n",
      "                                           IMDB_norm  RT_norm_round  \\\n",
      "FILM                                                                  \n",
      "The Lazarus Effect (2015)                        2.6            0.5   \n",
      "Gett: The Trial of Viviane Amsalem (2015)        3.9            5.0   \n",
      "Mr. Holmes (2015)                                3.7            4.5   \n",
      "\n",
      "                                           RT_user_norm_round  \\\n",
      "FILM                                                            \n",
      "The Lazarus Effect (2015)                                 1.0   \n",
      "Gett: The Trial of Viviane Amsalem (2015)                 4.0   \n",
      "Mr. Holmes (2015)                                         4.0   \n",
      "\n",
      "                                           Metacritic_norm_round  \\\n",
      "FILM                                                               \n",
      "The Lazarus Effect (2015)                                    1.5   \n",
      "Gett: The Trial of Viviane Amsalem (2015)                    4.5   \n",
      "Mr. Holmes (2015)                                            3.5   \n",
      "\n",
      "                                           Metacritic_user_norm_round  \\\n",
      "FILM                                                                    \n",
      "The Lazarus Effect (2015)                                         2.5   \n",
      "Gett: The Trial of Viviane Amsalem (2015)                         3.5   \n",
      "Mr. Holmes (2015)                                                 4.0   \n",
      "\n",
      "                                           IMDB_norm_round  \\\n",
      "FILM                                                         \n",
      "The Lazarus Effect (2015)                              2.5   \n",
      "Gett: The Trial of Viviane Amsalem (2015)              4.0   \n",
      "Mr. Holmes (2015)                                      3.5   \n",
      "\n",
      "                                           Metacritic_user_vote_count  \\\n",
      "FILM                                                                    \n",
      "The Lazarus Effect (2015)                                          62   \n",
      "Gett: The Trial of Viviane Amsalem (2015)                          19   \n",
      "Mr. Holmes (2015)                                                  33   \n",
      "\n",
      "                                           IMDB_user_vote_count  \\\n",
      "FILM                                                              \n",
      "The Lazarus Effect (2015)                                 17691   \n",
      "Gett: The Trial of Viviane Amsalem (2015)                  1955   \n",
      "Mr. Holmes (2015)                                          7367   \n",
      "\n",
      "                                           Fandango_votes  Fandango_Difference  \n",
      "FILM                                                                            \n",
      "The Lazarus Effect (2015)                            1651                  0.0  \n",
      "Gett: The Trial of Viviane Amsalem (2015)              59                  0.0  \n",
      "Mr. Holmes (2015)                                    1348                  0.0  \n",
      "\n",
      "[3 rows x 22 columns]\n"
     ]
    }
   ],
   "source": [
    "# indexing\n",
    "movies = [\"The Lazarus Effect (2015)\",\n",
    "          \"Gett: The Trial of Viviane Amsalem (2015)\",\n",
    "          \"Mr. Holmes (2015)\"]\n",
    "best_movies_ever = fandango_films.loc[movies]\n",
    "print(best_movies_ever)"
   ]
  },
  {
   "cell_type": "code",
   "execution_count": 24,
   "metadata": {},
   "outputs": [
    {
     "name": "stdout",
     "output_type": "stream",
     "text": [
      "<class 'pandas.core.series.Series'>\n",
      "<class 'pandas.core.frame.DataFrame'>\n"
     ]
    }
   ],
   "source": [
    "# lambda expression\n",
    "# Datafram.apply(lambda expression)\n",
    "\n",
    "import numpy as np\n",
    "\n",
    "# returns the data types as a Series\n",
    "types = fandango_films.dtypes\n",
    "# filter data types to just floats, index attributes returns just column names\n",
    "float_columns = types[types.values == 'float64'].index\n",
    "# use bracket notation to filter columns to just float columns\n",
    "float_df = fandango_films[float_columns]\n",
    "\n",
    "# `x` is a Series object representing a column\n",
    "deviations = float_df.apply(lambda x: np.std(x))\n",
    "double_value = float_df.apply(lambda x: x*2)\n",
    "print(type(deviations))\n",
    "print(type(double_value))"
   ]
  },
  {
   "cell_type": "code",
   "execution_count": 30,
   "metadata": {},
   "outputs": [
    {
     "name": "stdout",
     "output_type": "stream",
     "text": [
      "Standard deviation\n",
      "FILM\n",
      "Avengers: Age of Ultron (2015)    0.375\n",
      "Cinderella (2015)                 0.125\n",
      "Ant-Man (2015)                    0.225\n",
      "Do You Believe? (2015)            0.925\n",
      "Hot Tub Time Machine 2 (2015)     0.150\n",
      "dtype: float64\n",
      "\n",
      "Mean:\n",
      "FILM\n",
      "Avengers: Age of Ultron (2015)    3.925\n",
      "Cinderella (2015)                 3.875\n",
      "Ant-Man (2015)                    4.275\n",
      "Do You Believe? (2015)            3.275\n",
      "Hot Tub Time Machine 2 (2015)     1.550\n",
      "dtype: float64\n"
     ]
    }
   ],
   "source": [
    "# apply(axis=1)\n",
    "rt_mt_user = float_df[['RT_user_norm', 'Metacritic_user_nom']]\n",
    "rt_mt_deviations = rt_mt_user.apply(lambda x: np.std(x), axis=1)\n",
    "print('Standard deviation')\n",
    "print(rt_mt_deviations[0:5])\n",
    "rt_mt_means =rt_mt_user.apply(lambda x: np.mean(x), axis=1)\n",
    "print('\\nMean:')\n",
    "print(rt_mt_means[:5])"
   ]
  },
  {
   "cell_type": "code",
   "execution_count": null,
   "metadata": {},
   "outputs": [],
   "source": []
  },
  {
   "cell_type": "code",
   "execution_count": null,
   "metadata": {},
   "outputs": [],
   "source": []
  },
  {
   "cell_type": "code",
   "execution_count": null,
   "metadata": {},
   "outputs": [],
   "source": []
  },
  {
   "cell_type": "code",
   "execution_count": null,
   "metadata": {},
   "outputs": [],
   "source": []
  },
  {
   "cell_type": "code",
   "execution_count": null,
   "metadata": {},
   "outputs": [],
   "source": []
  },
  {
   "cell_type": "code",
   "execution_count": null,
   "metadata": {},
   "outputs": [],
   "source": []
  },
  {
   "cell_type": "code",
   "execution_count": null,
   "metadata": {},
   "outputs": [],
   "source": []
  },
  {
   "cell_type": "code",
   "execution_count": null,
   "metadata": {},
   "outputs": [],
   "source": []
  }
 ],
 "metadata": {
  "kernelspec": {
   "display_name": "Python 3",
   "language": "python",
   "name": "python3"
  },
  "language_info": {
   "codemirror_mode": {
    "name": "ipython",
    "version": 3
   },
   "file_extension": ".py",
   "mimetype": "text/x-python",
   "name": "python",
   "nbconvert_exporter": "python",
   "pygments_lexer": "ipython3",
   "version": "3.6.4"
  }
 },
 "nbformat": 4,
 "nbformat_minor": 2
}
