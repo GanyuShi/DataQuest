{
 "cells": [
  {
   "cell_type": "code",
   "execution_count": 1,
   "metadata": {},
   "outputs": [
    {
     "name": "stdout",
     "output_type": "stream",
     "text": [
      "   RespondentID Do you celebrate Thanksgiving?  \\\n",
      "0    4337954960                            Yes   \n",
      "1    4337951949                            Yes   \n",
      "2    4337935621                            Yes   \n",
      "3    4337933040                            Yes   \n",
      "4    4337931983                            Yes   \n",
      "\n",
      "  What is typically the main dish at your Thanksgiving dinner?  \\\n",
      "0                                             Turkey             \n",
      "1                                             Turkey             \n",
      "2                                             Turkey             \n",
      "3                                             Turkey             \n",
      "4                                           Tofurkey             \n",
      "\n",
      "  What is typically the main dish at your Thanksgiving dinner? - Other (please specify)  \\\n",
      "0                                                NaN                                      \n",
      "1                                                NaN                                      \n",
      "2                                                NaN                                      \n",
      "3                                                NaN                                      \n",
      "4                                                NaN                                      \n",
      "\n",
      "  How is the main dish typically cooked?  \\\n",
      "0                                  Baked   \n",
      "1                                  Baked   \n",
      "2                                Roasted   \n",
      "3                                  Baked   \n",
      "4                                  Baked   \n",
      "\n",
      "  How is the main dish typically cooked? - Other (please specify)  \\\n",
      "0                                                NaN                \n",
      "1                                                NaN                \n",
      "2                                                NaN                \n",
      "3                                                NaN                \n",
      "4                                                NaN                \n",
      "\n",
      "  What kind of stuffing/dressing do you typically have?  \\\n",
      "0                                        Bread-based      \n",
      "1                                        Bread-based      \n",
      "2                                         Rice-based      \n",
      "3                                        Bread-based      \n",
      "4                                        Bread-based      \n",
      "\n",
      "  What kind of stuffing/dressing do you typically have? - Other (please specify)  \\\n",
      "0                                                NaN                               \n",
      "1                                                NaN                               \n",
      "2                                                NaN                               \n",
      "3                                                NaN                               \n",
      "4                                                NaN                               \n",
      "\n",
      "  What type of cranberry saucedo you typically have?  \\\n",
      "0                                               None   \n",
      "1                             Other (please specify)   \n",
      "2                                           Homemade   \n",
      "3                                           Homemade   \n",
      "4                                             Canned   \n",
      "\n",
      "  What type of cranberry saucedo you typically have? - Other (please specify)  \\\n",
      "0                                                NaN                            \n",
      "1                    Homemade cranberry gelatin ring                            \n",
      "2                                                NaN                            \n",
      "3                                                NaN                            \n",
      "4                                                NaN                            \n",
      "\n",
      "          ...          \\\n",
      "0         ...           \n",
      "1         ...           \n",
      "2         ...           \n",
      "3         ...           \n",
      "4         ...           \n",
      "\n",
      "  Have you ever tried to meet up with hometown friends on Thanksgiving night?  \\\n",
      "0                                                Yes                            \n",
      "1                                                 No                            \n",
      "2                                                Yes                            \n",
      "3                                                Yes                            \n",
      "4                                                Yes                            \n",
      "\n",
      "  Have you ever attended a \"Friendsgiving?\"  \\\n",
      "0                                        No   \n",
      "1                                        No   \n",
      "2                                       Yes   \n",
      "3                                        No   \n",
      "4                                        No   \n",
      "\n",
      "  Will you shop any Black Friday sales on Thanksgiving Day?  \\\n",
      "0                                                 No          \n",
      "1                                                Yes          \n",
      "2                                                Yes          \n",
      "3                                                 No          \n",
      "4                                                 No          \n",
      "\n",
      "  Do you work in retail? Will you employer make you work on Black Friday?  \\\n",
      "0                     No                                              NaN   \n",
      "1                     No                                              NaN   \n",
      "2                     No                                              NaN   \n",
      "3                     No                                              NaN   \n",
      "4                     No                                              NaN   \n",
      "\n",
      "  How would you describe where you live?      Age What is your gender?  \\\n",
      "0                               Suburban  18 - 29                 Male   \n",
      "1                                  Rural  18 - 29               Female   \n",
      "2                               Suburban  18 - 29                 Male   \n",
      "3                                  Urban  30 - 44                 Male   \n",
      "4                                  Urban  30 - 44                 Male   \n",
      "\n",
      "  How much total combined money did all members of your HOUSEHOLD earn last year?  \\\n",
      "0                                 $75,000 to $99,999                                \n",
      "1                                 $50,000 to $74,999                                \n",
      "2                                       $0 to $9,999                                \n",
      "3                                    $200,000 and up                                \n",
      "4                               $100,000 to $124,999                                \n",
      "\n",
      "            US Region  \n",
      "0     Middle Atlantic  \n",
      "1  East South Central  \n",
      "2            Mountain  \n",
      "3             Pacific  \n",
      "4             Pacific  \n",
      "\n",
      "[5 rows x 65 columns]\n"
     ]
    }
   ],
   "source": [
    "import pandas as pd\n",
    "data = pd.read_csv('thanksgiving.csv', encoding=\"Latin-1\")\n",
    "print(data.head())"
   ]
  },
  {
   "cell_type": "code",
   "execution_count": 2,
   "metadata": {},
   "outputs": [
    {
     "name": "stdout",
     "output_type": "stream",
     "text": [
      "Index(['RespondentID', 'Do you celebrate Thanksgiving?',\n",
      "       'What is typically the main dish at your Thanksgiving dinner?',\n",
      "       'What is typically the main dish at your Thanksgiving dinner? - Other (please specify)',\n",
      "       'How is the main dish typically cooked?',\n",
      "       'How is the main dish typically cooked? - Other (please specify)',\n",
      "       'What kind of stuffing/dressing do you typically have?',\n",
      "       'What kind of stuffing/dressing do you typically have? - Other (please specify)',\n",
      "       'What type of cranberry saucedo you typically have?',\n",
      "       'What type of cranberry saucedo you typically have? - Other (please specify)',\n",
      "       'Do you typically have gravy?',\n",
      "       'Which of these side dishes aretypically served at your Thanksgiving dinner? Please select all that apply. - Brussel sprouts',\n",
      "       'Which of these side dishes aretypically served at your Thanksgiving dinner? Please select all that apply. - Carrots',\n",
      "       'Which of these side dishes aretypically served at your Thanksgiving dinner? Please select all that apply. - Cauliflower',\n",
      "       'Which of these side dishes aretypically served at your Thanksgiving dinner? Please select all that apply. - Corn',\n",
      "       'Which of these side dishes aretypically served at your Thanksgiving dinner? Please select all that apply. - Cornbread',\n",
      "       'Which of these side dishes aretypically served at your Thanksgiving dinner? Please select all that apply. - Fruit salad',\n",
      "       'Which of these side dishes aretypically served at your Thanksgiving dinner? Please select all that apply. - Green beans/green bean casserole',\n",
      "       'Which of these side dishes aretypically served at your Thanksgiving dinner? Please select all that apply. - Macaroni and cheese',\n",
      "       'Which of these side dishes aretypically served at your Thanksgiving dinner? Please select all that apply. - Mashed potatoes',\n",
      "       'Which of these side dishes aretypically served at your Thanksgiving dinner? Please select all that apply. - Rolls/biscuits',\n",
      "       'Which of these side dishes aretypically served at your Thanksgiving dinner? Please select all that apply. - Squash',\n",
      "       'Which of these side dishes aretypically served at your Thanksgiving dinner? Please select all that apply. - Vegetable salad',\n",
      "       'Which of these side dishes aretypically served at your Thanksgiving dinner? Please select all that apply. - Yams/sweet potato casserole',\n",
      "       'Which of these side dishes aretypically served at your Thanksgiving dinner? Please select all that apply. - Other (please specify)',\n",
      "       'Which of these side dishes aretypically served at your Thanksgiving dinner? Please select all that apply. - Other (please specify).1',\n",
      "       'Which type of pie is typically served at your Thanksgiving dinner? Please select all that apply. - Apple',\n",
      "       'Which type of pie is typically served at your Thanksgiving dinner? Please select all that apply. - Buttermilk',\n",
      "       'Which type of pie is typically served at your Thanksgiving dinner? Please select all that apply. - Cherry',\n",
      "       'Which type of pie is typically served at your Thanksgiving dinner? Please select all that apply. - Chocolate',\n",
      "       'Which type of pie is typically served at your Thanksgiving dinner? Please select all that apply. - Coconut cream',\n",
      "       'Which type of pie is typically served at your Thanksgiving dinner? Please select all that apply. - Key lime',\n",
      "       'Which type of pie is typically served at your Thanksgiving dinner? Please select all that apply. - Peach',\n",
      "       'Which type of pie is typically served at your Thanksgiving dinner? Please select all that apply. - Pecan',\n",
      "       'Which type of pie is typically served at your Thanksgiving dinner? Please select all that apply. - Pumpkin',\n",
      "       'Which type of pie is typically served at your Thanksgiving dinner? Please select all that apply. - Sweet Potato',\n",
      "       'Which type of pie is typically served at your Thanksgiving dinner? Please select all that apply. - None',\n",
      "       'Which type of pie is typically served at your Thanksgiving dinner? Please select all that apply. - Other (please specify)',\n",
      "       'Which type of pie is typically served at your Thanksgiving dinner? Please select all that apply. - Other (please specify).1',\n",
      "       'Which of these desserts do you typically have at Thanksgiving dinner? Please select all that apply.   - Apple cobbler',\n",
      "       'Which of these desserts do you typically have at Thanksgiving dinner? Please select all that apply.   - Blondies',\n",
      "       'Which of these desserts do you typically have at Thanksgiving dinner? Please select all that apply.   - Brownies',\n",
      "       'Which of these desserts do you typically have at Thanksgiving dinner? Please select all that apply.   - Carrot cake',\n",
      "       'Which of these desserts do you typically have at Thanksgiving dinner? Please select all that apply.   - Cheesecake',\n",
      "       'Which of these desserts do you typically have at Thanksgiving dinner? Please select all that apply.   - Cookies',\n",
      "       'Which of these desserts do you typically have at Thanksgiving dinner? Please select all that apply.   - Fudge',\n",
      "       'Which of these desserts do you typically have at Thanksgiving dinner? Please select all that apply.   - Ice cream',\n",
      "       'Which of these desserts do you typically have at Thanksgiving dinner? Please select all that apply.   - Peach cobbler',\n",
      "       'Which of these desserts do you typically have at Thanksgiving dinner? Please select all that apply.   - None',\n",
      "       'Which of these desserts do you typically have at Thanksgiving dinner? Please select all that apply.   - Other (please specify)',\n",
      "       'Which of these desserts do you typically have at Thanksgiving dinner? Please select all that apply.   - Other (please specify).1',\n",
      "       'Do you typically pray before or after the Thanksgiving meal?',\n",
      "       'How far will you travel for Thanksgiving?',\n",
      "       'Will you watch any of the following programs on Thanksgiving? Please select all that apply. - Macy's Parade',\n",
      "       'What's the age cutoff at your \"kids' table\" at Thanksgiving?',\n",
      "       'Have you ever tried to meet up with hometown friends on Thanksgiving night?',\n",
      "       'Have you ever attended a \"Friendsgiving?\"',\n",
      "       'Will you shop any Black Friday sales on Thanksgiving Day?',\n",
      "       'Do you work in retail?',\n",
      "       'Will you employer make you work on Black Friday?',\n",
      "       'How would you describe where you live?', 'Age', 'What is your gender?',\n",
      "       'How much total combined money did all members of your HOUSEHOLD earn last year?',\n",
      "       'US Region'],\n",
      "      dtype='object')\n"
     ]
    }
   ],
   "source": [
    "print(data.columns)"
   ]
  },
  {
   "cell_type": "code",
   "execution_count": 3,
   "metadata": {},
   "outputs": [
    {
     "name": "stdout",
     "output_type": "stream",
     "text": [
      "Yes    980\n",
      "No      78\n",
      "Name: Do you celebrate Thanksgiving?, dtype: int64\n",
      "object\n"
     ]
    }
   ],
   "source": [
    "# pandas.Series.value_counts()\n",
    "\n",
    "col = 'Do you celebrate Thanksgiving?'\n",
    "print(data[col].value_counts())\n",
    "print(data[col].dtype)"
   ]
  },
  {
   "cell_type": "code",
   "execution_count": 4,
   "metadata": {},
   "outputs": [
    {
     "name": "stdout",
     "output_type": "stream",
     "text": [
      "Yes    980\n",
      "Name: Do you celebrate Thanksgiving?, dtype: int64\n"
     ]
    }
   ],
   "source": [
    "# remove rows which do not celebrate Thanksgiving\n",
    "\n",
    "yes_rows = (data[col] == 'Yes')\n",
    "data = data[yes_rows]\n",
    "print(data[col].value_counts())"
   ]
  },
  {
   "cell_type": "code",
   "execution_count": 5,
   "metadata": {},
   "outputs": [
    {
     "name": "stdout",
     "output_type": "stream",
     "text": [
      "Turkey                    859\n",
      "Other (please specify)     35\n",
      "Ham/Pork                   29\n",
      "Tofurkey                   20\n",
      "Chicken                    12\n",
      "Roast beef                 11\n",
      "I don't know                5\n",
      "Turducken                   3\n",
      "Name: What is typically the main dish at your Thanksgiving dinner?, dtype: int64\n"
     ]
    }
   ],
   "source": [
    "# main_dish pandas.Series.value_counts()\n",
    "col_main_dish = 'What is typically the main dish at your Thanksgiving dinner?'\n",
    "print(data[col_main_dish].value_counts())"
   ]
  },
  {
   "cell_type": "code",
   "execution_count": 6,
   "metadata": {},
   "outputs": [
    {
     "name": "stdout",
     "output_type": "stream",
     "text": [
      "Yes    892\n",
      "No      82\n",
      "Name: Do you typically have gravy?, dtype: int64\n"
     ]
    }
   ],
   "source": [
    "# Display the Do you typically have gravy? \n",
    "# column for any rows from data where the \n",
    "# What is typically the main dish at your Thanksgiving dinner? column equals Tofurkey.\n",
    "\n",
    "rows = data[data[col_main_dish] == 'Tofurkey']\n",
    "col_gravy = 'Do you typically have gravy?'\n",
    "print(data[col_gravy].value_counts())"
   ]
  },
  {
   "cell_type": "code",
   "execution_count": 7,
   "metadata": {},
   "outputs": [
    {
     "name": "stdout",
     "output_type": "stream",
     "text": [
      "[False  True]\n",
      "False    876\n",
      "True     104\n",
      "dtype: int64\n"
     ]
    }
   ],
   "source": [
    "# Analyse dessert\n",
    "col_apple = 'Which type of pie is typically served at your Thanksgiving dinner? Please select all that apply. - Apple'\n",
    "col_pumpkin = 'Which type of pie is typically served at your Thanksgiving dinner? Please select all that apply. - Pumpkin'\n",
    "col_pecon = 'Which type of pie is typically served at your Thanksgiving dinner? Please select all that apply. - Pecan'\n",
    "no_pies = pd.isnull(data[col_apple]) & pd.isnull(data[col_pumpkin]) & pd.isnull(data[col_pecon])\n",
    "print(no_pies.unique())\n",
    "print(no_pies.value_counts())"
   ]
  },
  {
   "cell_type": "code",
   "execution_count": 8,
   "metadata": {},
   "outputs": [
    {
     "data": {
      "text/plain": [
       "count    947.000000\n",
       "mean      40.089757\n",
       "std       15.352014\n",
       "min       18.000000\n",
       "25%       30.000000\n",
       "50%       45.000000\n",
       "75%       60.000000\n",
       "max       60.000000\n",
       "Name: int_age, dtype: float64"
      ]
     },
     "execution_count": 8,
     "metadata": {},
     "output_type": "execute_result"
    }
   ],
   "source": [
    "# Analyse age\n",
    "# pd.Series.describe()\n",
    "\n",
    "def convertAge(age):\n",
    "    if pd.isnull(age):\n",
    "        return None\n",
    "    parts = age.split()\n",
    "    age = parts[0]\n",
    "    if age.startswith('6'):\n",
    "        age = age[:-1]\n",
    "    age = int(age)\n",
    "    return age\n",
    "data['int_age'] = data['Age'].apply(convertAge)\n",
    "data['int_age'].describe()"
   ]
  },
  {
   "cell_type": "markdown",
   "metadata": {},
   "source": [
    "<b>Is there anything that we should be aware of about the results or our methodology?</b>\n",
    "- Should not use a single value to represent a range value\n",
    "- Should not use the lowest value in the range\n",
    "<br/>\n",
    "\n",
    "<b>Is this a true depiction of the ages of survey participants?</b>\n",
    "- No"
   ]
  },
  {
   "cell_type": "code",
   "execution_count": 9,
   "metadata": {},
   "outputs": [
    {
     "data": {
      "text/plain": [
       "count       829.000000\n",
       "mean      75965.018094\n",
       "std       59068.636748\n",
       "min           0.000000\n",
       "25%       25000.000000\n",
       "50%       75000.000000\n",
       "75%      100000.000000\n",
       "max      200000.000000\n",
       "Name: int_income, dtype: float64"
      ]
     },
     "execution_count": 9,
     "metadata": {},
     "output_type": "execute_result"
    }
   ],
   "source": [
    "# Analyse household income\n",
    "def convertIncome(income):\n",
    "    if pd.isnull(income) or income.startswith('P'):\n",
    "        return None\n",
    "    parts = income.split()\n",
    "    income = parts[0]\n",
    "    income = income.replace('$', '')\n",
    "    income = income.replace(',', '')\n",
    "    \n",
    "    return int(income)\n",
    "col_income = 'How much total combined money did all members of your HOUSEHOLD earn last year?'\n",
    "data['int_income'] = data[col_income].apply(convertIncome)\n",
    "data['int_income'].describe()"
   ]
  },
  {
   "cell_type": "code",
   "execution_count": 13,
   "metadata": {},
   "outputs": [
    {
     "name": "stdout",
     "output_type": "stream",
     "text": [
      "Income under 15000:\n",
      "Thanksgiving is happening at my home--I won't travel at all                         0.407837\n",
      "Thanksgiving is local--it will take place in the town I live in                     0.294630\n",
      "Thanksgiving is out of town but not too far--it's a drive of a few hours or less    0.217707\n",
      "Thanksgiving is out of town and far away--I have to drive several hours or fly      0.079826\n",
      "Name: How far will you travel for Thanksgiving?, dtype: float64\n",
      "Income above 15000:\n",
      "Thanksgiving is happening at my home--I won't travel at all                         0.471429\n",
      "Thanksgiving is local--it will take place in the town I live in                     0.242857\n",
      "Thanksgiving is out of town but not too far--it's a drive of a few hours or less    0.178571\n",
      "Thanksgiving is out of town and far away--I have to drive several hours or fly      0.107143\n",
      "Name: How far will you travel for Thanksgiving?, dtype: float64\n"
     ]
    }
   ],
   "source": [
    "# Analyse correlating Travel Distance And Income\n",
    "rows = data[data['int_income'] < 150000]\n",
    "col = 'How far will you travel for Thanksgiving?'\n",
    "print('Income under 15000:')\n",
    "print(rows[col].value_counts(normalize=True))\n",
    "\n",
    "rows= data[data['int_income'] >= 150000]\n",
    "print('Income above 15000:')\n",
    "print(rows[col].value_counts(normalize=True))"
   ]
  },
  {
   "cell_type": "code",
   "execution_count": 18,
   "metadata": {},
   "outputs": [
    {
     "name": "stdout",
     "output_type": "stream",
     "text": [
      "Have you ever attended a \"Friendsgiving?\"                  No        Yes\n",
      "Have you ever tried to meet up with hometown fr...                      \n",
      "No                                                  42.283702  37.010526\n",
      "Yes                                                 41.475410  33.976744\n"
     ]
    }
   ],
   "source": [
    "# Linking Friendship And Age\n",
    "# DataFrame.pivot_table()\n",
    "import numpy as np\n",
    "index = ['Have you ever tried to meet up with hometown friends on Thanksgiving night?']\n",
    "column = ['Have you ever attended a \"Friendsgiving?\"']\n",
    "tb = data.pivot_table(index=index, columns=column, values='int_age', aggfunc=np.mean)\n",
    "print(tb)\n",
    "\n"
   ]
  },
  {
   "cell_type": "code",
   "execution_count": 19,
   "metadata": {},
   "outputs": [
    {
     "name": "stdout",
     "output_type": "stream",
     "text": [
      "Have you ever attended a \"Friendsgiving?\"                     No           Yes\n",
      "Have you ever tried to meet up with hometown fr...                            \n",
      "No                                                  78914.549654  72894.736842\n",
      "Yes                                                 78750.000000  66019.736842\n"
     ]
    }
   ],
   "source": [
    "index = ['Have you ever tried to meet up with hometown friends on Thanksgiving night?']\n",
    "column = ['Have you ever attended a \"Friendsgiving?\"']\n",
    "tb = data.pivot_table(index=index, columns=column, values='int_income', aggfunc=np.mean)\n",
    "print(tb)\n"
   ]
  },
  {
   "cell_type": "code",
   "execution_count": 45,
   "metadata": {},
   "outputs": [
    {
     "data": {
      "text/plain": [
       "Which of these desserts do you typically have at Thanksgiving dinner? Please select all that apply.   - Blondies                    0.009434\n",
       "Which of these desserts do you typically have at Thanksgiving dinner? Please select all that apply.   - Fudge                       0.025354\n",
       "Which of these desserts do you typically have at Thanksgiving dinner? Please select all that apply.   - Carrot cake                 0.042453\n",
       "Which of these desserts do you typically have at Thanksgiving dinner? Please select all that apply.   - Peach cobbler               0.060731\n",
       "Which of these desserts do you typically have at Thanksgiving dinner? Please select all that apply.   - Apple cobbler               0.064858\n",
       "Which of these desserts do you typically have at Thanksgiving dinner? Please select all that apply.   - Brownies                    0.075472\n",
       "Which of these desserts do you typically have at Thanksgiving dinner? Please select all that apply.   - Other (please specify)      0.079009\n",
       "Which of these desserts do you typically have at Thanksgiving dinner? Please select all that apply.   - Other (please specify).1    0.079009\n",
       "Which of these desserts do you typically have at Thanksgiving dinner? Please select all that apply.   - Cheesecake                  0.112618\n",
       "Which of these desserts do you typically have at Thanksgiving dinner? Please select all that apply.   - Cookies                     0.120283\n",
       "Which of these desserts do you typically have at Thanksgiving dinner? Please select all that apply.   - Ice cream                   0.156840\n",
       "Which of these desserts do you typically have at Thanksgiving dinner? Please select all that apply.   - None                        0.173939\n",
       "dtype: float64"
      ]
     },
     "execution_count": 45,
     "metadata": {},
     "output_type": "execute_result"
    }
   ],
   "source": [
    "# most common dessert\n",
    "prefix = 'Which of these desserts do you typically have at Thanksgiving dinner?'\n",
    "col_dessert = [c for c in list(data.columns) if c.startswith(prefix)]\n",
    "def count_dessert_consumption(dessert_col):\n",
    "    return dessert_col.size - sum(dessert_col.isnull())\n",
    "df = data[col_dessert]\n",
    "s = df.apply(count_dessert_consumption)\n",
    "s = s /sum(s)\n",
    "s.sort_values()"
   ]
  },
  {
   "cell_type": "code",
   "execution_count": 52,
   "metadata": {},
   "outputs": [
    {
     "name": "stdout",
     "output_type": "stream",
     "text": [
      "Turkey                    859\n",
      "Other (please specify)     35\n",
      "Ham/Pork                   29\n",
      "Tofurkey                   20\n",
      "Chicken                    12\n",
      "Roast beef                 11\n",
      "I don't know                5\n",
      "Turducken                   3\n",
      "Name: What is typically the main dish at your Thanksgiving dinner?, dtype: int64\n",
      "Prime Rib                                                                                2\n",
      "Turkey and Ham                                                                           2\n",
      "seafood                                                                                  2\n",
      "Turkey and Vegetarian Turkey                                                             1\n",
      "Varies significantly by year as one group of people we tend to be with are vegetarian    1\n",
      "salmon                                                                                   1\n",
      "Restaurant with various choices.                                                         1\n",
      "Turkey & Ham or Seafood Hotdish (a secret family recipe).                                1\n",
      "Duck                                                                                     1\n",
      "A turkey and a ham. Always.                                                              1\n",
      "Venison                                                                                  1\n",
      "head cheese                                                                              1\n",
      "gumbo                                                                                    1\n",
      "No predictable main dish                                                                 1\n",
      "turkey, ham. vegetarian for me.                                                          1\n",
      "Both turkey and a vegetarian nut loaf                                                    1\n",
      "This year we are having baked lasagna, diff every year                                   1\n",
      "Varies                                                                                   1\n",
      "alternate turkey & ham                                                                   1\n",
      "some kind of lentil or vegetable stew                                                    1\n",
      "steak                                                                                    1\n",
      "goose                                                                                    1\n",
      "Steak                                                                                    1\n",
      "Chicken Dressing                                                                         1\n",
      "It varies, ham or turkey or boston butt                                                  1\n",
      "prime rib                                                                                1\n",
      "always different                                                                         1\n",
      "changes every year                                                                       1\n",
      "Lentil Loaf                                                                              1\n",
      "A wild game bird which changes every year.                                               1\n",
      "Homemade vegan entree                                                                    1\n",
      "fish                                                                                     1\n",
      "Name: What is typically the main dish at your Thanksgiving dinner? - Other (please specify), dtype: int64\n"
     ]
    }
   ],
   "source": [
    "# most common complete meal\n",
    "# print(data.columns)\n",
    "col = 'What is typically the main dish at your Thanksgiving dinner?'\n",
    "col2 = 'What is typically the main dish at your Thanksgiving dinner? - Other (please specify)'\n",
    "print(data[col].value_counts())\n",
    "print(data[col2].value_counts())"
   ]
  },
  {
   "cell_type": "code",
   "execution_count": 55,
   "metadata": {},
   "outputs": [
    {
     "name": "stdout",
     "output_type": "stream",
     "text": [
      "Yes              43\n",
      "No               20\n",
      "Doesn't apply     7\n",
      "Name: Will you employer make you work on Black Friday?, dtype: int64\n"
     ]
    }
   ],
   "source": [
    "# Identify how many people work on Thanksgiving.\n",
    "# print(data.columns)\n",
    "col = 'Will you employer make you work on Black Friday?'\n",
    "print(data[col].value_counts())"
   ]
  }
 ],
 "metadata": {
  "kernelspec": {
   "display_name": "Python 3",
   "language": "python",
   "name": "python3"
  },
  "language_info": {
   "codemirror_mode": {
    "name": "ipython",
    "version": 3
   },
   "file_extension": ".py",
   "mimetype": "text/x-python",
   "name": "python",
   "nbconvert_exporter": "python",
   "pygments_lexer": "ipython3",
   "version": "3.6.4"
  }
 },
 "nbformat": 4,
 "nbformat_minor": 2
}
