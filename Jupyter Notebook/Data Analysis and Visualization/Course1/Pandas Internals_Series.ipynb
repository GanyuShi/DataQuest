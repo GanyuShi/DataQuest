{
 "cells": [
  {
   "cell_type": "markdown",
   "metadata": {},
   "source": [
    "<b>The three key data structures in pandas are:</b>\n",
    "\n",
    "1. Series objects (collections of values)\n",
    "2. DataFrames (collections of Series objects)\n",
    "3. Panels (collections of DataFrame objects)\n",
    "\n",
    "<b>A Series object can hold many data types, including:</b>\n",
    "<ul>\n",
    "<li>float - For float values</li>\n",
    "<li>int - For integer values</li>\n",
    "<li>bool - For Boolean values</li>\n",
    "<li>datetime64[ns] - For date & time, without time zone</li>\n",
    "<li>datetime64[ns, tz] - For date & time, with time zone</li>\n",
    "<li>timedelta[ns] - For representing differences in dates & times (seconds, minutes, etc.)</li>\n",
    "<li>category - For categorical values</li>\n",
    "<li>object - For string values</li>\n",
    "</ul>"
   ]
  },
  {
   "cell_type": "code",
   "execution_count": 7,
   "metadata": {},
   "outputs": [
    {
     "name": "stdout",
     "output_type": "stream",
     "text": [
      "                             FILM  RottenTomatoes  RottenTomatoes_User  \\\n",
      "0  Avengers: Age of Ultron (2015)              74                   86   \n",
      "1               Cinderella (2015)              85                   80   \n",
      "\n",
      "   Metacritic  Metacritic_User  IMDB  Fandango_Stars  Fandango_Ratingvalue  \\\n",
      "0          66              7.1   7.8             5.0                   4.5   \n",
      "1          67              7.5   7.1             5.0                   4.5   \n",
      "\n",
      "   RT_norm  RT_user_norm         ...           IMDB_norm  RT_norm_round  \\\n",
      "0     3.70           4.3         ...                3.90            3.5   \n",
      "1     4.25           4.0         ...                3.55            4.5   \n",
      "\n",
      "   RT_user_norm_round  Metacritic_norm_round  Metacritic_user_norm_round  \\\n",
      "0                 4.5                    3.5                         3.5   \n",
      "1                 4.0                    3.5                         4.0   \n",
      "\n",
      "   IMDB_norm_round  Metacritic_user_vote_count  IMDB_user_vote_count  \\\n",
      "0              4.0                        1330                271107   \n",
      "1              3.5                         249                 65709   \n",
      "\n",
      "   Fandango_votes  Fandango_Difference  \n",
      "0           14846                  0.5  \n",
      "1           12640                  0.5  \n",
      "\n",
      "[2 rows x 22 columns]\n"
     ]
    }
   ],
   "source": [
    "import pandas as pd\n",
    "fandango = pd.read_csv('fandango_score_comparison.csv')\n",
    "print(fandango.head(2))"
   ]
  },
  {
   "cell_type": "code",
   "execution_count": 8,
   "metadata": {},
   "outputs": [
    {
     "name": "stdout",
     "output_type": "stream",
     "text": [
      "0    Avengers: Age of Ultron (2015)\n",
      "1                 Cinderella (2015)\n",
      "2                    Ant-Man (2015)\n",
      "3            Do You Believe? (2015)\n",
      "4     Hot Tub Time Machine 2 (2015)\n",
      "Name: FILM, dtype: object\n",
      "0    74\n",
      "1    85\n",
      "2    80\n",
      "3    18\n",
      "4    14\n",
      "Name: RottenTomatoes, dtype: int64\n"
     ]
    }
   ],
   "source": [
    "series_film = fandango['FILM']\n",
    "print(series_film[:5])\n",
    "series_rt = fandango['RottenTomatoes']\n",
    "print(series_rt[:5])"
   ]
  },
  {
   "cell_type": "code",
   "execution_count": 15,
   "metadata": {
    "scrolled": false
   },
   "outputs": [
    {
     "name": "stdout",
     "output_type": "stream",
     "text": [
      "Avengers: Age of Ultron (2015)                     74\n",
      "Cinderella (2015)                                  85\n",
      "Ant-Man (2015)                                     80\n",
      "Do You Believe? (2015)                             18\n",
      "Hot Tub Time Machine 2 (2015)                      14\n",
      "The Water Diviner (2015)                           63\n",
      "Irrational Man (2015)                              42\n",
      "Top Five (2014)                                    86\n",
      "Shaun the Sheep Movie (2015)                       99\n",
      "Love & Mercy (2015)                                89\n",
      "Far From The Madding Crowd (2015)                  84\n",
      "Black Sea (2015)                                   82\n",
      "Leviathan (2014)                                   99\n",
      "Unbroken (2014)                                    51\n",
      "The Imitation Game (2014)                          90\n",
      "Taken 3 (2015)                                      9\n",
      "Ted 2 (2015)                                       46\n",
      "Southpaw (2015)                                    59\n",
      "Night at the Museum: Secret of the Tomb (2014)     50\n",
      "Pixels (2015)                                      17\n",
      "McFarland, USA (2015)                              79\n",
      "Insidious: Chapter 3 (2015)                        59\n",
      "The Man From U.N.C.L.E. (2015)                     68\n",
      "Run All Night (2015)                               60\n",
      "Trainwreck (2015)                                  85\n",
      "Selma (2014)                                       99\n",
      "Ex Machina (2015)                                  92\n",
      "Still Alice (2015)                                 88\n",
      "Wild Tales (2014)                                  96\n",
      "The End of the Tour (2015)                         92\n",
      "                                                 ... \n",
      "Clouds of Sils Maria (2015)                        89\n",
      "Testament of Youth (2015)                          81\n",
      "Infinitely Polar Bear (2015)                       80\n",
      "Phoenix (2015)                                     99\n",
      "The Wolfpack (2015)                                84\n",
      "The Stanford Prison Experiment (2015)              84\n",
      "Tangerine (2015)                                   95\n",
      "Magic Mike XXL (2015)                              62\n",
      "Home (2015)                                        45\n",
      "The Wedding Ringer (2015)                          27\n",
      "Woman in Gold (2015)                               52\n",
      "The Last Five Years (2015)                         60\n",
      "Mission: Impossible â€“ Rogue Nation (2015)        92\n",
      "Amy (2015)                                         97\n",
      "Jurassic World (2015)                              71\n",
      "Minions (2015)                                     54\n",
      "Max (2015)                                         35\n",
      "Paul Blart: Mall Cop 2 (2015)                       5\n",
      "The Longest Ride (2015)                            31\n",
      "The Lazarus Effect (2015)                          14\n",
      "The Woman In Black 2 Angel of Death (2015)         22\n",
      "Danny Collins (2015)                               77\n",
      "Spare Parts (2015)                                 52\n",
      "Serena (2015)                                      18\n",
      "Inside Out (2015)                                  98\n",
      "Mr. Holmes (2015)                                  87\n",
      "'71 (2015)                                         97\n",
      "Two Days, One Night (2014)                         97\n",
      "Gett: The Trial of Viviane Amsalem (2015)         100\n",
      "Kumiko, The Treasure Hunter (2015)                 87\n",
      "Length: 146, dtype: int64\n"
     ]
    }
   ],
   "source": [
    "# pd.Series(data, index)\n",
    "from pandas import Series\n",
    "film_names = series_film.values\n",
    "rt_scores = series_rt.values\n",
    "series_custom = Series(data=rt_scores, index=film_names)\n",
    "print(series_custom)"
   ]
  },
  {
   "cell_type": "markdown",
   "metadata": {},
   "source": [
    "## Series can be indexed by string (like a dict) or by index (like a list)"
   ]
  },
  {
   "cell_type": "code",
   "execution_count": 20,
   "metadata": {},
   "outputs": [
    {
     "name": "stdout",
     "output_type": "stream",
     "text": [
      "by name:\n",
      "Minions (2015)      54\n",
      "Leviathan (2014)    99\n",
      "dtype: int64\n",
      "\n",
      "\n",
      "by index:\n",
      "The Water Diviner (2015)             63\n",
      "Irrational Man (2015)                42\n",
      "Top Five (2014)                      86\n",
      "Shaun the Sheep Movie (2015)         99\n",
      "Love & Mercy (2015)                  89\n",
      "Far From The Madding Crowd (2015)    84\n",
      "dtype: int64\n"
     ]
    }
   ],
   "source": [
    "series_custom = Series(rt_scores , index=film_names)\n",
    "byName = series_custom[['Minions (2015)', 'Leviathan (2014)']]\n",
    "print('by name:')\n",
    "print(byName)\n",
    "fiveten = series_custom[5:11]\n",
    "print('\\n\\nby index:')\n",
    "print(fiveten)"
   ]
  },
  {
   "cell_type": "code",
   "execution_count": 22,
   "metadata": {},
   "outputs": [
    {
     "name": "stdout",
     "output_type": "stream",
     "text": [
      "Aloha (2015)              19\n",
      "American Sniper (2015)    72\n",
      "American Ultra (2015)     46\n",
      "Amy (2015)                97\n",
      "Annie (2014)              27\n",
      "Ant-Man (2015)            80\n",
      "dtype: int64\n"
     ]
    }
   ],
   "source": [
    "# pd.Series.reindex()\n",
    "original_index = series_custom.index\n",
    "sorted_index = sorted(original_index)\n",
    "sorted_by_index = series_custom.reindex(sorted_index)\n",
    "print(sorted_by_index[5:11])"
   ]
  },
  {
   "cell_type": "code",
   "execution_count": 24,
   "metadata": {},
   "outputs": [
    {
     "name": "stdout",
     "output_type": "stream",
     "text": [
      "sort by index:\n",
      "'71 (2015)                    97\n",
      "5 Flights Up (2015)           52\n",
      "A Little Chaos (2015)         40\n",
      "A Most Violent Year (2014)    90\n",
      "About Elly (2015)             97\n",
      "Aloha (2015)                  19\n",
      "American Sniper (2015)        72\n",
      "American Ultra (2015)         46\n",
      "Amy (2015)                    97\n",
      "Annie (2014)                  27\n",
      "dtype: int64\n",
      "\n",
      "\n",
      "sort by values:\n",
      "Paul Blart: Mall Cop 2 (2015)     5\n",
      "Hitman: Agent 47 (2015)           7\n",
      "Hot Pursuit (2015)                8\n",
      "Fantastic Four (2015)             9\n",
      "Taken 3 (2015)                    9\n",
      "The Boy Next Door (2015)         10\n",
      "The Loft (2015)                  11\n",
      "Unfinished Business (2015)       11\n",
      "Mortdecai (2015)                 12\n",
      "Seventh Son (2015)               12\n",
      "dtype: int64\n"
     ]
    }
   ],
   "source": [
    "# pd.Series.sort_index(), sort_values()\n",
    "\n",
    "sc2 = series_custom.sort_index()\n",
    "sc3 = series_custom.sort_values()\n",
    "print('sort by index:')\n",
    "print(sc2[:10])\n",
    "print('\\n\\nsort by values:')\n",
    "print(sc3[:10])"
   ]
  },
  {
   "cell_type": "code",
   "execution_count": 27,
   "metadata": {},
   "outputs": [
    {
     "name": "stdout",
     "output_type": "stream",
     "text": [
      "Avengers: Age of Ultron (2015)    3.70\n",
      "Cinderella (2015)                 4.25\n",
      "Ant-Man (2015)                    4.00\n",
      "Do You Believe? (2015)            0.90\n",
      "Hot Tub Time Machine 2 (2015)     0.70\n",
      "dtype: float64\n"
     ]
    }
   ],
   "source": [
    "# vectorized operation\n",
    "\n",
    "series_normalized = series_custom / 20\n",
    "print(series_normalized.head())\n",
    "\n",
    "criteria_one = series_custom > 50\n",
    "criteria_two = series_custom < 75\n",
    "\n",
    "both_criteria = series_custom[criteria_one & criteria_two]"
   ]
  },
  {
   "cell_type": "code",
   "execution_count": 29,
   "metadata": {},
   "outputs": [
    {
     "name": "stdout",
     "output_type": "stream",
     "text": [
      "FILM\n",
      "Avengers: Age of Ultron (2015)    74\n",
      "Cinderella (2015)                 85\n",
      "Ant-Man (2015)                    80\n",
      "Do You Believe? (2015)            18\n",
      "Hot Tub Time Machine 2 (2015)     14\n",
      "dtype: int64\n",
      "\n",
      "\n",
      "Avengers: Age of Ultron (2015)    74\n",
      "Cinderella (2015)                 85\n",
      "Ant-Man (2015)                    80\n",
      "Do You Believe? (2015)            18\n",
      "Hot Tub Time Machine 2 (2015)     14\n",
      "dtype: int64\n"
     ]
    }
   ],
   "source": [
    "rt_critics1 = Series(fandango['RottenTomatoes'].values, index=fandango['FILM'])\n",
    "rt_critics2 = Series(fandango['RottenTomatoes'].values, index=fandango['FILM'].values)\n",
    "print(rt_critics1.head())\n",
    "print('\\n')\n",
    "print(rt_critics2.head())"
   ]
  }
 ],
 "metadata": {
  "kernelspec": {
   "display_name": "Python 3",
   "language": "python",
   "name": "python3"
  },
  "language_info": {
   "codemirror_mode": {
    "name": "ipython",
    "version": 3
   },
   "file_extension": ".py",
   "mimetype": "text/x-python",
   "name": "python",
   "nbconvert_exporter": "python",
   "pygments_lexer": "ipython3",
   "version": "3.6.4"
  }
 },
 "nbformat": 4,
 "nbformat_minor": 2
}
