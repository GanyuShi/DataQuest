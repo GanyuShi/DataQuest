{
 "cells": [
  {
   "cell_type": "code",
   "execution_count": 16,
   "metadata": {},
   "outputs": [],
   "source": [
    "import pandas as pd\n",
    "import numpy as np\n",
    "titanic_survival = pd.read_csv('titanic_survival.csv')"
   ]
  },
  {
   "cell_type": "code",
   "execution_count": 25,
   "metadata": {},
   "outputs": [
    {
     "name": "stdout",
     "output_type": "stream",
     "text": [
      "Mean: 29.8811345124283\n"
     ]
    }
   ],
   "source": [
    "# selection\n",
    "age = titanic_survival[\"age\"]\n",
    "age_is_null = age.isnull()\n",
    "age_null_true = age[age_is_null]\n",
    "age_null_false = age[age_is_null == False]\n",
    "correct_mean_age = sum(age_null_false) / len(age_null_false)\n",
    "print('Mean:', correct_mean_age)"
   ]
  },
  {
   "cell_type": "code",
   "execution_count": 26,
   "metadata": {},
   "outputs": [
    {
     "name": "stdout",
     "output_type": "stream",
     "text": [
      "Mean: 29.8811345124283\n"
     ]
    }
   ],
   "source": [
    "# selection\n",
    "correct_mean_age = titanic_survival[\"age\"].mean()\n",
    "print('Mean:', correct_mean_age)"
   ]
  },
  {
   "cell_type": "code",
   "execution_count": 27,
   "metadata": {},
   "outputs": [
    {
     "name": "stdout",
     "output_type": "stream",
     "text": [
      "{1: 87.50899164086687, 2: 21.1791963898917, 3: 13.302888700564957}\n"
     ]
    }
   ],
   "source": [
    "# selection\n",
    "passenger_classes = [1, 2, 3]\n",
    "fares_by_class = {}\n",
    "for c in passenger_classes:\n",
    "    rows = titanic_survival['pclass'] == c\n",
    "    fares = titanic_survival['fare']\n",
    "    cfares = fares[rows]\n",
    "    fares_by_class[c] = cfares.mean()\n",
    "print(fares_by_class)"
   ]
  },
  {
   "cell_type": "markdown",
   "metadata": {},
   "source": [
    "## Note: select columns use index, select rows using True/False list\n"
   ]
  },
  {
   "cell_type": "code",
   "execution_count": 28,
   "metadata": {},
   "outputs": [
    {
     "data": {
      "text/plain": [
       "\"The first parameter of the method, index tells the method which column to group by. \\nThe second parameter values is the column that we want to apply the calculation to,\\nand aggfunc specifies the calculation we want to perform. \\nThe default for the aggfunc parameter is actually the mean, \\nso if we're calculating this we can omit this parameter.\\n\""
      ]
     },
     "execution_count": 28,
     "metadata": {},
     "output_type": "execute_result"
    }
   ],
   "source": [
    "# pivot table\n",
    "passenger_class_fares = titanic_survival.pivot_table(index=\"pclass\", values=\"fare\", aggfunc=np.mean)\n",
    "\n",
    "\"\"\"The first parameter of the method, index tells the method which column to group by. \n",
    "The second parameter values is the column that we want to apply the calculation to,\n",
    "and aggfunc specifies the calculation we want to perform. \n",
    "The default for the aggfunc parameter is actually the mean, \n",
    "so if we're calculating this we can omit this parameter.\n",
    "\"\"\""
   ]
  },
  {
   "cell_type": "code",
   "execution_count": 29,
   "metadata": {},
   "outputs": [
    {
     "name": "stdout",
     "output_type": "stream",
     "text": [
      "              age\n",
      "pclass           \n",
      "1.0     39.159918\n",
      "2.0     29.506705\n",
      "3.0     24.816367\n"
     ]
    }
   ],
   "source": [
    "# pivot table\n",
    "passenger_age = titanic_survival.pivot_table(index='pclass', values='age')\n",
    "print(passenger_age)"
   ]
  },
  {
   "cell_type": "code",
   "execution_count": 30,
   "metadata": {},
   "outputs": [
    {
     "name": "stdout",
     "output_type": "stream",
     "text": [
      "                fare  survived\n",
      "embarked                      \n",
      "C         16830.7922     150.0\n",
      "Q          1526.3085      44.0\n",
      "S         25033.3862     304.0\n"
     ]
    }
   ],
   "source": [
    "# pivot table\n",
    "port_stats = titanic_survival.pivot_table(index='embarked', values=['fare', 'survived'], aggfunc=np.sum)\n",
    "print(port_stats)"
   ]
  },
  {
   "cell_type": "code",
   "execution_count": 31,
   "metadata": {},
   "outputs": [],
   "source": [
    "# drop na\n",
    "drop_na_rows = titanic_survival.dropna(axis=0)\n",
    "drop_na_columns = titanic_survival.dropna(axis=1)\n",
    "new_titanic_survival = titanic_survival.dropna(subset=['age', 'sex'])"
   ]
  },
  {
   "cell_type": "markdown",
   "metadata": {},
   "source": [
    "## iloc[index] vs loc[index]\n",
    "DataFrame.iloc[ ]: by position <br>DataFrame.loc[ ]: by row name or original position"
   ]
  },
  {
   "cell_type": "markdown",
   "metadata": {},
   "source": [
    "<img src=\"img/iloc_vs_loc.png\",width=600,height=600>"
   ]
  },
  {
   "cell_type": "code",
   "execution_count": 32,
   "metadata": {},
   "outputs": [
    {
     "name": "stdout",
     "output_type": "stream",
     "text": [
      "   pclass  survived                                             name\n",
      "0     1.0       1.0                    Allen, Miss. Elisabeth Walton\n",
      "1     1.0       1.0                   Allison, Master. Hudson Trevor\n",
      "2     1.0       0.0                     Allison, Miss. Helen Loraine\n",
      "3     1.0       0.0             Allison, Mr. Hudson Joshua Creighton\n",
      "4     1.0       0.0  Allison, Mrs. Hudson J C (Bessie Waldo Daniels)\n"
     ]
    }
   ],
   "source": [
    "# reset index\n",
    "titanic_reindexed = new_titanic_survival.reset_index(drop=True)\n",
    "print(titanic_reindexed.iloc[:5, :3])\n"
   ]
  },
  {
   "cell_type": "code",
   "execution_count": 34,
   "metadata": {},
   "outputs": [],
   "source": [
    "# DataFrame.apply()\n",
    "\n",
    "def hundredth_row(column):\n",
    "    hundredth_item = column.iloc[99]\n",
    "    return hundredth_item\n",
    "\n",
    "hundredth_row_var = titanic_survival.apply(hundredth_row)\n",
    "\n",
    "def count_null(series):\n",
    "    return sum(series.isnull())\n",
    "\n",
    "column_null_count = titanic_survival.apply(count_null)"
   ]
  },
  {
   "cell_type": "code",
   "execution_count": 35,
   "metadata": {},
   "outputs": [],
   "source": [
    "# DataFrame.apply() to row\n",
    "def is_minor(row):\n",
    "    if pd.isnull(row['age']):\n",
    "        return 'unknown'\n",
    "    elif row[\"age\"] < 18:\n",
    "        return 'minor'\n",
    "    else:\n",
    "        return 'adult'\n",
    "\n",
    "age_labels = titanic_survival.apply(is_minor, axis=1)"
   ]
  },
  {
   "cell_type": "code",
   "execution_count": null,
   "metadata": {},
   "outputs": [],
   "source": []
  }
 ],
 "metadata": {
  "kernelspec": {
   "display_name": "Python 3",
   "language": "python",
   "name": "python3"
  },
  "language_info": {
   "codemirror_mode": {
    "name": "ipython",
    "version": 3
   },
   "file_extension": ".py",
   "mimetype": "text/x-python",
   "name": "python",
   "nbconvert_exporter": "python",
   "pygments_lexer": "ipython3",
   "version": "3.6.4"
  }
 },
 "nbformat": 4,
 "nbformat_minor": 2
}
